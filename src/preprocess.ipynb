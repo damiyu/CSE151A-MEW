{
 "cells": [
  {
   "cell_type": "code",
   "execution_count": 1,
   "metadata": {},
   "outputs": [],
   "source": [
    "import numpy as np\n",
    "import json"
   ]
  },
  {
   "cell_type": "code",
   "execution_count": 2,
   "metadata": {},
   "outputs": [],
   "source": [
    "def missing(dict):\n",
    "    n = len(dict)\n",
    "    keys = list(dict[0].keys())\n",
    "    k_cnt = len(keys)\n",
    "    num_of_empties = [0] * (k_cnt + 1)\n",
    "\n",
    "    cnts = [0] * k_cnt\n",
    "    for d in dict:\n",
    "        for i in range(k_cnt):\n",
    "            if d[keys[i]] == '': cnts[i] += 1\n",
    "\n",
    "    for i in range(k_cnt): cnts[i] /= n\n",
    "    missing = zip(keys, cnts)\n",
    "    print(*missing)\n",
    "\n",
    "    for d in dict:\n",
    "        ept_cnt = 0\n",
    "\n",
    "        for i in range(k_cnt):\n",
    "            if d[keys[i]] == '': ept_cnt += 1\n",
    "        \n",
    "        num_of_empties[ept_cnt] += 1\n",
    "    empties = zip(range(k_cnt + 1), num_of_empties)\n",
    "    print(*empties)"
   ]
  },
  {
   "cell_type": "code",
   "execution_count": 3,
   "metadata": {},
   "outputs": [
    {
     "name": "stdout",
     "output_type": "stream",
     "text": [
      "('firm', 0.0) ('date_review', 0.0) ('job_title', 0.0) ('current', 0.0) ('location', 0.35457912674732817) ('overall_rating', 0.0) ('work_life_balance', 0.17875039054767305) ('culture_values', 0.22821459491560592) ('diversity_inclusion', 0.8377396650949359) ('career_opp', 0.17589670938244575) ('comp_benefits', 0.17897458279968423) ('senior_mgmt', 0.18588399720475193) ('recommend', 0.0) ('ceo_approv', 0.0) ('outlook', 0.0) ('headline', 0.002650954128834224) ('pros', 0.0) ('cons', 9.540095830262615e-06)\n",
      "(0, 108627) (1, 358636) (2, 201886) (3, 17593) (4, 3196) (5, 3577) (6, 64706) (7, 80057) (8, 288) (9, 0) (10, 0) (11, 0) (12, 0) (13, 0) (14, 0) (15, 0) (16, 0) (17, 0) (18, 0)\n",
      "New dataset size: 757391\n",
      "New data column size: 16\n"
     ]
    }
   ],
   "source": [
    "file = open(\"./dataset/glassdoor_reviews.json\", 'r', encoding='utf8')\n",
    "dataset_dict = json.load(file)\n",
    "\n",
    "missing(dataset_dict)\n",
    "\n",
    "keys = ['firm', 'date_review', 'job_title', 'current', 'recommend', 'ceo_approv', 'outlook', 'headline', 'pros', 'cons']\n",
    "k_cnt = len(keys)\n",
    "\n",
    "process = []\n",
    "for d in dataset_dict:\n",
    "    d['job_title'] = d['job_title'][1:]\n",
    "\n",
    "    ept = False\n",
    "    for i in range(k_cnt):\n",
    "        if d[keys[i]] == '':\n",
    "            ept = True\n",
    "            break\n",
    "    if ept: continue\n",
    "    if d['current'] == 'KEY NOT FOUND: jobLine.per_diem-former': continue\n",
    "    if d['current'] == 'KEY NOT FOUND: jobLine.temporary-former': continue\n",
    "\n",
    "    del d['diversity_inclusion']\n",
    "    del d['location']\n",
    "    process.append(d)\n",
    "\n",
    "print(\"New dataset size: %d\" % (len(process)))\n",
    "print(\"New data column size: %d\" % (len(list(process[0].keys()))))\n",
    "\n",
    "process = json.dumps(process, indent=2)\n",
    "with open(\"./dataset/processed_reviews.json\", \"w\") as outfile:\n",
    "    outfile.write(process)\n",
    "outfile.close()\n",
    "file.close()"
   ]
  },
  {
   "cell_type": "code",
   "execution_count": 4,
   "metadata": {},
   "outputs": [
    {
     "name": "stdout",
     "output_type": "stream",
     "text": [
      "('firm', 0.0) ('date_review', 0.0) ('job_title', 0.0) ('current', 0.0) ('overall_rating', 0.0) ('work_life_balance', 0.1687265890405352) ('culture_values', 0.20669376847625598) ('career_opp', 0.1659090218922591) ('comp_benefits', 0.16883617576654594) ('senior_mgmt', 0.17545230930919434) ('recommend', 0.0) ('ceo_approv', 0.0) ('outlook', 0.0) ('headline', 0.0) ('pros', 0.0) ('cons', 0.0)\n",
      "(0, 592101) (1, 34146) (2, 3335) (3, 2366) (4, 4370) (5, 121073) (6, 0) (7, 0) (8, 0) (9, 0) (10, 0) (11, 0) (12, 0) (13, 0) (14, 0) (15, 0) (16, 0)\n",
      "[4, 3, 3, 3, 3, 3]\n"
     ]
    }
   ],
   "source": [
    "file = open(\"./dataset/processed_reviews.json\", 'r', encoding='utf8')\n",
    "dataset_dict = json.load(file)\n",
    "missing(dataset_dict)\n",
    "\n",
    "key_avg = [\"overall_rating\", \"work_life_balance\", \"culture_values\", \"career_opp\", \"comp_benefits\", \"senior_mgmt\"]\n",
    "n, k_avg = len(dataset_dict), len(key_avg)\n",
    "\n",
    "avgs = [0] * k_avg\n",
    "for d in dataset_dict:\n",
    "    for i in range(k_avg):\n",
    "        avgs[i] += 0 if d[key_avg[i]] == '' else d[key_avg[i]]\n",
    "\n",
    "for i in range(k_avg): avgs[i] = round(avgs[i] / n)\n",
    "print(avgs)"
   ]
  },
  {
   "cell_type": "code",
   "execution_count": 5,
   "metadata": {},
   "outputs": [],
   "source": [
    "cur_position, dura_position = [], []\n",
    "\n",
    "# Parse position and duration\n",
    "for d in dataset_dict:\n",
    "    position = d['current']\n",
    "    l = len(position)\n",
    "    idx = l\n",
    "\n",
    "    for i in range(l - 1):\n",
    "        if position[i] == ',' and position[i + 1] == ' ': idx = i\n",
    "    \n",
    "    cur_position.append(position[:idx])\n",
    "    if idx == l: dura_position.append('not mentioned')\n",
    "    else: dura_position.append(position[idx + 2:])\n",
    "\n",
    "# Note that some positions do not have a duration\n",
    "pos_wrap = zip(cur_position, dura_position)"
   ]
  },
  {
   "cell_type": "code",
   "execution_count": 6,
   "metadata": {},
   "outputs": [
    {
     "name": "stdout",
     "output_type": "stream",
     "text": [
      "(array(['Current Contractor', 'Current Employee', 'Current Freelancer',\n",
      "       'Current Intern', 'Former Contractor', 'Former Employee',\n",
      "       'Former Intern', 'Former Temporary Employee'], dtype='<U25'), array([     8, 448509,      1,      1,     10, 308853,      8,      1]))\n",
      "(array(['less than 1 year', 'more than 1 year', 'more than 10 years',\n",
      "       'more than 3 years', 'more than 5 years', 'more than 8 years',\n",
      "       'not mentioned'], dtype='<U18'), array([ 89621, 146384,  39731, 108732,  62232,  28721, 281970]))\n"
     ]
    }
   ],
   "source": [
    "a, b = np.array(cur_position), np.array(dura_position)\n",
    "print(np.unique(a, return_counts=True))\n",
    "print(np.unique(b, return_counts=True))"
   ]
  },
  {
   "cell_type": "code",
   "execution_count": 9,
   "metadata": {},
   "outputs": [
    {
     "name": "stdout",
     "output_type": "stream",
     "text": [
      "('firm', 0.0) ('date_review', 0.0) ('job_title', 0.0) ('current', 0.0) ('overall_rating', 0.0) ('work_life_balance', 0.0) ('culture_values', 0.0) ('career_opp', 0.0) ('comp_benefits', 0.0) ('senior_mgmt', 0.0) ('recommend', 0.0) ('ceo_approv', 0.0) ('outlook', 0.0) ('headline', 0.0) ('pros', 0.0) ('cons', 0.0) ('duration', 0.0)\n",
      "(0, 757391) (1, 0) (2, 0) (3, 0) (4, 0) (5, 0) (6, 0) (7, 0) (8, 0) (9, 0) (10, 0) (11, 0) (12, 0) (13, 0) (14, 0) (15, 0) (16, 0) (17, 0)\n"
     ]
    }
   ],
   "source": [
    "for i in range(n):\n",
    "    for j in range(k_avg):\n",
    "        dataset_dict[i][key_avg[j]] = avgs[j] if dataset_dict[i][key_avg[j]] == '' else int(dataset_dict[i][key_avg[j]])\n",
    "        dataset_dict[i]['current'] = cur_position[i]\n",
    "        dataset_dict[i]['duration'] = dura_position[i]\n",
    "\n",
    "process = json.dumps(dataset_dict, indent=2)\n",
    "with open(\"./dataset/processed_reviews.json\", \"w\") as outfile:\n",
    "    outfile.write(process)\n",
    "outfile.close()\n",
    "file.close()\n",
    "missing(dataset_dict)"
   ]
  }
 ],
 "metadata": {
  "kernelspec": {
   "display_name": "Python 3 (ipykernel)",
   "language": "python",
   "name": "python3"
  },
  "language_info": {
   "codemirror_mode": {
    "name": "ipython",
    "version": 3
   },
   "file_extension": ".py",
   "mimetype": "text/x-python",
   "name": "python",
   "nbconvert_exporter": "python",
   "pygments_lexer": "ipython3",
   "version": "3.11.8"
  }
 },
 "nbformat": 4,
 "nbformat_minor": 4
}
