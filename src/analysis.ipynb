{
 "cells": [
  {
   "cell_type": "code",
   "execution_count": 42,
   "metadata": {},
   "outputs": [],
   "source": [
    "import numpy as np\n",
    "import matplotlib.pyplot as plt\n",
    "import sklearn as sk\n",
    "import json\n",
    "import pandas as pd\n",
    "import seaborn as sns"
   ]
  },
  {
   "cell_type": "code",
   "execution_count": 43,
   "metadata": {},
   "outputs": [],
   "source": [
    "file = open(\"./dataset/glassdoor_reviews.json\", 'r', encoding='utf8')\n",
    "dataset_dict = json.load(file)"
   ]
  },
  {
   "cell_type": "code",
   "execution_count": 44,
   "metadata": {},
   "outputs": [
    {
     "name": "stdout",
     "output_type": "stream",
     "text": [
      "Dataset Size: 838566\n",
      "Sample Item: {'firm': 'AFH-Wealth-Management', 'date_review': '2015-04-05', 'job_title': ' ', 'current': 'Current Employee', 'location': '', 'overall_rating': 2, 'work_life_balance': 4.0, 'culture_values': 3.0, 'diversity_inclusion': '', 'career_opp': 2.0, 'comp_benefits': 3.0, 'senior_mgmt': 3.0, 'recommend': 'x', 'ceo_approv': 'o', 'outlook': 'r', 'headline': 'Young colleagues, poor micro management', 'pros': 'Very friendly and welcoming to new staff. Easy going ethic.', 'cons': 'Poor salaries, poor training and communication.'}\n"
     ]
    }
   ],
   "source": [
    "print(\"Dataset Size: %d\" % (len(dataset_dict)))\n",
    "print(f\"Sample Item: {dataset_dict[0]}\")"
   ]
  },
  {
   "cell_type": "code",
   "execution_count": 45,
   "metadata": {},
   "outputs": [],
   "source": [
    "dataset = pd.DataFrame.from_dict(dataset_dict, orient='columns')"
   ]
  },
  {
   "cell_type": "code",
   "execution_count": 46,
   "metadata": {},
   "outputs": [
    {
     "data": {
      "text/html": [
       "<div>\n",
       "<style scoped>\n",
       "    .dataframe tbody tr th:only-of-type {\n",
       "        vertical-align: middle;\n",
       "    }\n",
       "\n",
       "    .dataframe tbody tr th {\n",
       "        vertical-align: top;\n",
       "    }\n",
       "\n",
       "    .dataframe thead th {\n",
       "        text-align: right;\n",
       "    }\n",
       "</style>\n",
       "<table border=\"1\" class=\"dataframe\">\n",
       "  <thead>\n",
       "    <tr style=\"text-align: right;\">\n",
       "      <th></th>\n",
       "      <th>firm</th>\n",
       "      <th>date_review</th>\n",
       "      <th>job_title</th>\n",
       "      <th>current</th>\n",
       "      <th>location</th>\n",
       "      <th>overall_rating</th>\n",
       "      <th>work_life_balance</th>\n",
       "      <th>culture_values</th>\n",
       "      <th>diversity_inclusion</th>\n",
       "      <th>career_opp</th>\n",
       "      <th>comp_benefits</th>\n",
       "      <th>senior_mgmt</th>\n",
       "      <th>recommend</th>\n",
       "      <th>ceo_approv</th>\n",
       "      <th>outlook</th>\n",
       "      <th>headline</th>\n",
       "      <th>pros</th>\n",
       "      <th>cons</th>\n",
       "    </tr>\n",
       "  </thead>\n",
       "  <tbody>\n",
       "    <tr>\n",
       "      <th>0</th>\n",
       "      <td>AFH-Wealth-Management</td>\n",
       "      <td>2015-04-05</td>\n",
       "      <td></td>\n",
       "      <td>Current Employee</td>\n",
       "      <td></td>\n",
       "      <td>2</td>\n",
       "      <td>4.0</td>\n",
       "      <td>3.0</td>\n",
       "      <td></td>\n",
       "      <td>2.0</td>\n",
       "      <td>3.0</td>\n",
       "      <td>3.0</td>\n",
       "      <td>x</td>\n",
       "      <td>o</td>\n",
       "      <td>r</td>\n",
       "      <td>Young colleagues, poor micro management</td>\n",
       "      <td>Very friendly and welcoming to new staff. Easy...</td>\n",
       "      <td>Poor salaries, poor training and communication.</td>\n",
       "    </tr>\n",
       "    <tr>\n",
       "      <th>1</th>\n",
       "      <td>AFH-Wealth-Management</td>\n",
       "      <td>2015-12-11</td>\n",
       "      <td>Office Administrator</td>\n",
       "      <td>Current Employee, more than 1 year</td>\n",
       "      <td>Bromsgrove, England, England</td>\n",
       "      <td>2</td>\n",
       "      <td>3.0</td>\n",
       "      <td>1.0</td>\n",
       "      <td></td>\n",
       "      <td>2.0</td>\n",
       "      <td>1.0</td>\n",
       "      <td>4.0</td>\n",
       "      <td>x</td>\n",
       "      <td>o</td>\n",
       "      <td>r</td>\n",
       "      <td>Excellent staff, poor salary</td>\n",
       "      <td>Friendly, helpful and hard-working colleagues</td>\n",
       "      <td>Poor salary which doesn't improve much with pr...</td>\n",
       "    </tr>\n",
       "    <tr>\n",
       "      <th>2</th>\n",
       "      <td>AFH-Wealth-Management</td>\n",
       "      <td>2016-01-28</td>\n",
       "      <td>Office Administrator</td>\n",
       "      <td>Current Employee, less than 1 year</td>\n",
       "      <td>Bromsgrove, England, England</td>\n",
       "      <td>1</td>\n",
       "      <td>1.0</td>\n",
       "      <td>1.0</td>\n",
       "      <td></td>\n",
       "      <td>1.0</td>\n",
       "      <td>1.0</td>\n",
       "      <td>1.0</td>\n",
       "      <td>x</td>\n",
       "      <td>o</td>\n",
       "      <td>x</td>\n",
       "      <td>Low salary, bad micromanagement</td>\n",
       "      <td>Easy to get the job even without experience in...</td>\n",
       "      <td>Very low salary, poor working conditions, very...</td>\n",
       "    </tr>\n",
       "    <tr>\n",
       "      <th>3</th>\n",
       "      <td>AFH-Wealth-Management</td>\n",
       "      <td>2016-04-16</td>\n",
       "      <td></td>\n",
       "      <td>Current Employee</td>\n",
       "      <td></td>\n",
       "      <td>5</td>\n",
       "      <td>2.0</td>\n",
       "      <td>3.0</td>\n",
       "      <td></td>\n",
       "      <td>2.0</td>\n",
       "      <td>2.0</td>\n",
       "      <td>3.0</td>\n",
       "      <td>x</td>\n",
       "      <td>o</td>\n",
       "      <td>r</td>\n",
       "      <td>Over promised under delivered</td>\n",
       "      <td>Nice staff to work with</td>\n",
       "      <td>No career progression and salary is poor</td>\n",
       "    </tr>\n",
       "    <tr>\n",
       "      <th>4</th>\n",
       "      <td>AFH-Wealth-Management</td>\n",
       "      <td>2016-04-23</td>\n",
       "      <td>Office Administrator</td>\n",
       "      <td>Current Employee, more than 1 year</td>\n",
       "      <td>Bromsgrove, England, England</td>\n",
       "      <td>1</td>\n",
       "      <td>2.0</td>\n",
       "      <td>1.0</td>\n",
       "      <td></td>\n",
       "      <td>2.0</td>\n",
       "      <td>1.0</td>\n",
       "      <td>1.0</td>\n",
       "      <td>x</td>\n",
       "      <td>o</td>\n",
       "      <td>x</td>\n",
       "      <td>client reporting admin</td>\n",
       "      <td>Easy to get the job, Nice colleagues.</td>\n",
       "      <td>Abysmal pay, around minimum wage. No actual tr...</td>\n",
       "    </tr>\n",
       "  </tbody>\n",
       "</table>\n",
       "</div>"
      ],
      "text/plain": [
       "                    firm date_review              job_title  \\\n",
       "0  AFH-Wealth-Management  2015-04-05                          \n",
       "1  AFH-Wealth-Management  2015-12-11   Office Administrator   \n",
       "2  AFH-Wealth-Management  2016-01-28   Office Administrator   \n",
       "3  AFH-Wealth-Management  2016-04-16                          \n",
       "4  AFH-Wealth-Management  2016-04-23   Office Administrator   \n",
       "\n",
       "                              current                      location  \\\n",
       "0                    Current Employee                                 \n",
       "1  Current Employee, more than 1 year  Bromsgrove, England, England   \n",
       "2  Current Employee, less than 1 year  Bromsgrove, England, England   \n",
       "3                    Current Employee                                 \n",
       "4  Current Employee, more than 1 year  Bromsgrove, England, England   \n",
       "\n",
       "   overall_rating work_life_balance culture_values diversity_inclusion  \\\n",
       "0               2               4.0            3.0                       \n",
       "1               2               3.0            1.0                       \n",
       "2               1               1.0            1.0                       \n",
       "3               5               2.0            3.0                       \n",
       "4               1               2.0            1.0                       \n",
       "\n",
       "  career_opp comp_benefits senior_mgmt recommend ceo_approv outlook  \\\n",
       "0        2.0           3.0         3.0         x          o       r   \n",
       "1        2.0           1.0         4.0         x          o       r   \n",
       "2        1.0           1.0         1.0         x          o       x   \n",
       "3        2.0           2.0         3.0         x          o       r   \n",
       "4        2.0           1.0         1.0         x          o       x   \n",
       "\n",
       "                                  headline  \\\n",
       "0  Young colleagues, poor micro management   \n",
       "1             Excellent staff, poor salary   \n",
       "2          Low salary, bad micromanagement   \n",
       "3            Over promised under delivered   \n",
       "4                   client reporting admin   \n",
       "\n",
       "                                                pros  \\\n",
       "0  Very friendly and welcoming to new staff. Easy...   \n",
       "1      Friendly, helpful and hard-working colleagues   \n",
       "2  Easy to get the job even without experience in...   \n",
       "3                            Nice staff to work with   \n",
       "4              Easy to get the job, Nice colleagues.   \n",
       "\n",
       "                                                cons  \n",
       "0    Poor salaries, poor training and communication.  \n",
       "1  Poor salary which doesn't improve much with pr...  \n",
       "2  Very low salary, poor working conditions, very...  \n",
       "3           No career progression and salary is poor  \n",
       "4  Abysmal pay, around minimum wage. No actual tr...  "
      ]
     },
     "execution_count": 46,
     "metadata": {},
     "output_type": "execute_result"
    }
   ],
   "source": [
    "dataset.head()"
   ]
  },
  {
   "cell_type": "code",
   "execution_count": 47,
   "metadata": {},
   "outputs": [
    {
     "data": {
      "text/plain": [
       "(838566, 18)"
      ]
     },
     "execution_count": 47,
     "metadata": {},
     "output_type": "execute_result"
    }
   ],
   "source": [
    "dataset.shape"
   ]
  },
  {
   "cell_type": "code",
   "execution_count": 48,
   "metadata": {},
   "outputs": [
    {
     "data": {
      "text/plain": [
       "Index(['firm', 'date_review', 'job_title', 'current', 'location',\n",
       "       'overall_rating', 'work_life_balance', 'culture_values',\n",
       "       'diversity_inclusion', 'career_opp', 'comp_benefits', 'senior_mgmt',\n",
       "       'recommend', 'ceo_approv', 'outlook', 'headline', 'pros', 'cons'],\n",
       "      dtype='object')"
      ]
     },
     "execution_count": 48,
     "metadata": {},
     "output_type": "execute_result"
    }
   ],
   "source": [
    "dataset.columns"
   ]
  },
  {
   "cell_type": "code",
   "execution_count": 49,
   "metadata": {},
   "outputs": [
    {
     "data": {
      "text/plain": [
       "array(['AFH-Wealth-Management', 'AJ-Bell', 'ALDI', 'AQA', 'ASDA', 'ASOS',\n",
       "       'AXA-UK', 'Abcam',\n",
       "       'Abertawe-Bro-Morgannwg-University-Health-Board', 'Accenture',\n",
       "       'Accor', 'Achieving-for-Children', 'ActionCOACH',\n",
       "       'Active-Care-Group', 'Adecco', 'Age-UK-The-National-Charity',\n",
       "       'AlixPartners', 'American-Express', 'Amey', 'Angard-Staffing',\n",
       "       'Anglian-Water', 'Anglo-American',\n",
       "       'Animal-and-Plant-Health-Agency', 'Aon', 'Apple', 'Arcadia',\n",
       "       'Arnold-Clark', 'AstraZeneca', 'Aviva', 'B-and-M-Retail',\n",
       "       'B-and-Q', 'BAT', 'BBC', 'BDO', 'BHS', 'BIS', 'BNP-Paribas',\n",
       "       'BNY-Mellon', 'BP', 'BPP-Holdings', 'BT',\n",
       "       'Babcock-International-Group', 'Babylon-Health',\n",
       "       'Bain-and-Company', 'Balfour-Beatty', 'Bannatyne-Group',\n",
       "       'Barchester-Healthcare', 'Barclays', 'Barnardo-s',\n",
       "       'Barnet-and-Chase-Farm-Hospitals-NHS-Trust', 'Barnett-Waddingham',\n",
       "       'Barratt-Developments', 'Barts-Health-NHS-Trust',\n",
       "       'BayWa-r-e-renewable-energy', 'Bayer', 'Best-Western',\n",
       "       'Betsi-Cadwaladr-University-Health-Board',\n",
       "       'Bill-and-Melinda-Gates-Foundation', 'Birkbeck-College',\n",
       "       'Birmingham-City-University', 'Bloomberg-L-P', 'Blue-Arrow',\n",
       "       'Blue-Yonder', 'Booking-com', 'Boots', 'Boots-Opticians',\n",
       "       'Boston-Consulting-Group', 'Brewin-Dolphin', 'British-Airways',\n",
       "       'British-Red-Cross', 'Brook-Street', 'Bullhorn', 'Bupa',\n",
       "       'Burberry', 'CBRE', 'CVS-Group', 'Cambridge-Assessment', 'Capita',\n",
       "       'Capital-Group', 'CarShop-UK', 'Cardiff-University', 'Care-UK',\n",
       "       'Career-Legal', 'Christie-s', 'Cisco-Systems', 'Citi',\n",
       "       'Citizens-Advice', 'CityFibre', 'Civil-Service-United-Kingdom',\n",
       "       'Co-op', 'Colosseum-Dental', 'Colt-Technology-Services',\n",
       "       'Communities-and-Local-Government', 'Companies-House',\n",
       "       'Compass-Group', 'Cougar-Mountain', 'Countrywide-plc',\n",
       "       'Covea-Insurance', 'Coventry-University', 'Creative-Support',\n",
       "       'Cromwell-Tools', 'Crown-Prosecution-Service',\n",
       "       'Crowne-Plaza-Hotels-and-Resorts', 'Curtis-Banks',\n",
       "       'Cushman-and-Wakefield', 'Cygnet-Health-Care', 'DFID',\n",
       "       'DFS-Furniture', 'DHL-Supply-Chain', 'DPDgroup', 'DWF',\n",
       "       'Dalata-Hotel-Group', 'David-Lloyd-Leisure', 'Debenhams',\n",
       "       'Deloitte', 'Department-for-Work-And-Pensions',\n",
       "       'Department-of-Health-UK', 'Deutsche-Bank', 'Diageo', 'Diligenta',\n",
       "       'Dixons-Carphone', 'Doubletree-By-Hilton', 'Durham-County-Council',\n",
       "       'Dynatrace', 'EBRD', 'ENABLE-Scotland', 'ENGIE', 'EY',\n",
       "       'East-Sussex-County-Council', 'Egon-Zehnder',\n",
       "       'Engineering-and-Physical-Sciences-Research-Council', 'Equiniti',\n",
       "       'Eversheds-Sutherland', 'Everyone-Active', 'FARFETCH', 'FYXER',\n",
       "       'Facebook', 'FirstPort', 'Foreign-and-Commonwealth-Office',\n",
       "       'Four-Seasons-Health-Care', 'Foxtons',\n",
       "       'Freshfields-Bruckhaus-Deringer', 'GLL',\n",
       "       'GTR-Govia-Thameslink-Railway', 'Gateley', 'Gi-Group',\n",
       "       'GlaxoSmithKline', 'Goldman-Sachs', 'Google', 'Grange-Hotels',\n",
       "       'Grant-Thornton', 'Grant-Thornton-UK-LLP', 'Grosvenor-Casinos',\n",
       "       'Guardian-News-and-Media',\n",
       "       'Guy-s-and-St-Thomas-NHS-Foundation-Trust', 'Gymbox', 'H-and-M',\n",
       "       'HC-One', 'HM-Courts-and-Tribunals-Service', 'HM-Prison-Service',\n",
       "       'HM-Treasury', 'HMCTS', 'HSBC-Holdings',\n",
       "       'Hampshire-County-Council', 'Harris-Federation', 'Harrods',\n",
       "       'Harvey-Nichols', 'Hastings-Direct', 'Hays',\n",
       "       'Health-Education-England', 'Health-Protection-Agency',\n",
       "       'Her-Majesty-s-Revenue-and-Customs', 'Hilton',\n",
       "       'Hitachi-Capital-UK', 'Holiday-Inn', 'Holiday-Inn-Express',\n",
       "       'Home-Group', 'Home-Office', 'Hyatt', 'IBM',\n",
       "       'IHG-Hotels-and-Resorts', 'ISS-Facility-Services',\n",
       "       'Immediate-Media-Company', 'Imperial-College-London', 'Indeed',\n",
       "       'Intelligent-Office-UK', 'Interserve', 'Iron-Mountain-Inc',\n",
       "       'Irwin-Mitchell', 'J-P-Morgan', 'J-Sainsbury', 'JLL', 'JLT-Group',\n",
       "       'JP-Boden-and-Co', 'Jaguar-Land-Rover', 'James-Hay-Partnership',\n",
       "       'John-Lewis-and-Partners', 'Jurys-Inns', 'KKR', 'KPMG',\n",
       "       'Kent-County-Council', 'Kier-Group', 'King-s-College-London',\n",
       "       'Kingsley-Healthcare', 'Knight-Frank', 'Korn-Ferry', 'Kurt-Geiger',\n",
       "       'LGT-Group', 'LSE', 'LV', 'Lancaster-University',\n",
       "       'Latham-and-Watkins', 'Leaders-Romans-Group', 'Leeds-City-Council',\n",
       "       'Legal-and-General', 'Leonardo-Hotels', 'Lidl', 'Link-Group',\n",
       "       'LinkedIn', 'Lloyds-Banking-Group', 'London-Underground',\n",
       "       'Loughborough-University', 'Macdonald-Hotels-and-Resorts',\n",
       "       'Malmaison', 'Manchester-Metropolitan-University', 'Manpower',\n",
       "       'Marks-and-Spencer', 'Marriott-International', 'Mastercard',\n",
       "       'McDonald-s', 'McKinsey-and-Company', 'Mears', 'Mercer',\n",
       "       'Met-Office', 'Metro-Bank', 'Michelmores', 'Microsoft',\n",
       "       'Ministry-of-Justice-UK', 'Missguided', 'Mitie', 'Moneypenny',\n",
       "       'Morgan-Stanley', 'Morrisons', 'Mountain-Warehouse', 'MyCSP',\n",
       "       'NHS', 'NHS-England', 'NHS-Professionals', 'NPSA',\n",
       "       'Nando-s-UK-and-IRE',\n",
       "       'National-Institute-for-Health-and-Care-Excellence',\n",
       "       'National-Offender-Management-Service', 'National-Star',\n",
       "       'Nationwide-Building-Society', 'Network-Rail', 'New-Look',\n",
       "       'Newcastle-Upon-Tyne-Hospitals-NHS',\n",
       "       'North-Yorkshire-County-Council', 'Northern-Gas-and-Power',\n",
       "       'Northern-Ireland-Civil-Service', 'Novotel-Hotels',\n",
       "       'Nuffield-Health', 'Odgers-Berndtson', 'Office-Angels',\n",
       "       'Office-Concierge', 'Office-for-National-Statistics',\n",
       "       'Office-of-Rail-Regulation', 'Oliver-Bonas', 'Oliver-Wyman',\n",
       "       'Oracle', 'Orbit-Group', 'Ordnance-Survey', 'Oxford-University',\n",
       "       'Oxford-University-Press', 'Pearson', 'Penderels-Trust',\n",
       "       'Penguin-Random-House', 'People-Group', 'Pertemps', 'Pizza-Hut',\n",
       "       'Portico', 'Post-Office', 'Premier-Inn', 'Primark', 'Priory-Group',\n",
       "       'Public-Health-England', 'PwC', 'Queen-s-University-Belfast',\n",
       "       'REED', 'RSM', 'RWE-Supply-and-Trading', 'Radisson-Hotel-Group',\n",
       "       'Randstad', 'Rapport-London', 'Rathbone-Brothers', 'Reassured',\n",
       "       'Rendall-and-Rittner', 'Rentokil-Initial', 'River-Island-Clothing',\n",
       "       'Robert-Walters', 'Roche', 'Rodericks-Dental', 'Royal-Mail',\n",
       "       'Rural-Payments-Agency', 'Ryan-LLC', 'SAP', 'SSE', 'Sage',\n",
       "       'Sainsbury-s', 'Salesforce', 'Sanctuary-Group', 'Santander',\n",
       "       'Savills', 'ScS-Sofas', 'Scottish-Courts-and-Tribunals-Service',\n",
       "       'Scottish-Government', 'Scottish-Widows', 'Search-Consultancy',\n",
       "       'Serco-Group', 'Skipton-Building-Society', 'Sky', 'Sodexo',\n",
       "       'Somerset-County-Council',\n",
       "       'Somerset-Partnership-NHS-Foundation-Trust', 'Sotheby-s',\n",
       "       'Southern-Health-and-Social-Care-Trust', 'Specsavers',\n",
       "       'Spire-Healthcare', 'Sport-England', 'Square-Enix',\n",
       "       'St-James-s-Place-Wealth-Management', 'Standard-Life-Aberdeen',\n",
       "       'Student-Loans-Company', 'Surrey-County-Council', 'Sytner', 'TLT',\n",
       "       'TUI-Group', 'Tate', 'Tate-Recruitment', 'Taylor-Wimpey',\n",
       "       'Tengizchevroil', 'Tesco', 'The-Access-Group-UK',\n",
       "       'The-British-Army',\n",
       "       'The-Church-of-Jesus-Christ-of-Latter-day-Saints',\n",
       "       'The-Coal-Authority', 'The-Department-for-Education-UK',\n",
       "       'The-Ivy-Collection', 'The-London-Clinic', 'The-National-Gallery',\n",
       "       'The-Open-University', 'The-Range',\n",
       "       'The-Royal-Marsden-NHS-Foundation-Trust', 'The-Salvation-Army',\n",
       "       'The-Survey-Association', 'The-White-Company', 'Thomas-Cook',\n",
       "       'Thomson-Reuters', 'Time-Etc', 'Topshop', 'Tower-Hamlets-Council',\n",
       "       'Transport-for-London', 'Travelodge-Hotels-UK', 'UHMBT',\n",
       "       'UK-Atomic-Energy-Authority', 'UK-Border-Agency',\n",
       "       'UK-Ministry-of-Defence', 'UKCIL', 'Unilever', 'United-Utilities',\n",
       "       'Unity-Technologies', 'University-College-London',\n",
       "       'University-College-London-Hospitals',\n",
       "       'University-Hospitals-of-Leicester', 'University-of-Bath',\n",
       "       'University-of-Birmingham', 'University-of-Bradford',\n",
       "       'University-of-Bristol', 'University-of-Cambridge',\n",
       "       'University-of-Durham', 'University-of-Edinburgh',\n",
       "       'University-of-Glasgow', 'University-of-Huddersfield',\n",
       "       'University-of-Hull', 'University-of-Leeds',\n",
       "       'University-of-Leicester', 'University-of-Liverpool',\n",
       "       'University-of-Manchester', 'University-of-Michigan',\n",
       "       'University-of-Newcastle-UK', 'University-of-Nottingham',\n",
       "       'University-of-Reading', 'University-of-Sheffield',\n",
       "       'University-of-Southampton', 'University-of-Strathclyde',\n",
       "       'University-of-Warwick', 'University-of-York',\n",
       "       'University-of-the-Arts-London',\n",
       "       'University-of-the-West-of-England', 'VMware',\n",
       "       'Valuation-Office-Agency', 'Veolia', 'Vets-Now', 'Vets4Pets',\n",
       "       'Virgin-Active', 'Virgin-Media', 'Vodafone', 'WHSmith',\n",
       "       'WLT-Group', 'Waitrose', 'Wakefield-Council',\n",
       "       'Wellington-Management', 'West-Sussex-County-Council',\n",
       "       'Western-Health-and-Social-Care-Trust', 'Whitbread',\n",
       "       'Willis-Towers-Watson', 'Willmott-Dixon', 'Wipro', 'Wise',\n",
       "       'Workday', 'XPO-Logistics', 'XPS-Pensions-Group',\n",
       "       'YOOX-NET-A-PORTER-GROUP', 'i-Net-Solution', 'ibis',\n",
       "       'mydentist-UK', 'next', 'the-LEGO-Group'], dtype=object)"
      ]
     },
     "execution_count": 49,
     "metadata": {},
     "output_type": "execute_result"
    }
   ],
   "source": [
    "dataset['firm'].unique()"
   ]
  },
  {
   "cell_type": "code",
   "execution_count": 50,
   "metadata": {},
   "outputs": [],
   "source": [
    "np_len = np.vectorize(len)\n",
    "firm_name_len = np_len(dataset['firm'])"
   ]
  },
  {
   "cell_type": "code",
   "execution_count": 51,
   "metadata": {},
   "outputs": [
    {
     "data": {
      "text/plain": [
       "(50, 2)"
      ]
     },
     "execution_count": 51,
     "metadata": {},
     "output_type": "execute_result"
    }
   ],
   "source": [
    "max(firm_name_len), min(firm_name_len)"
   ]
  },
  {
   "cell_type": "code",
   "execution_count": 52,
   "metadata": {},
   "outputs": [
    {
     "data": {
      "text/plain": [
       "('Engineering-and-Physical-Sciences-Research-Council', 'BP')"
      ]
     },
     "execution_count": 52,
     "metadata": {},
     "output_type": "execute_result"
    }
   ],
   "source": [
    "#printing longest and shortest firm names\n",
    "dataset['firm'][np.where(firm_name_len == max(firm_name_len))[0][0]], dataset['firm'][np.where(firm_name_len == min(firm_name_len))[0][0]]"
   ]
  },
  {
   "cell_type": "code",
   "execution_count": 53,
   "metadata": {},
   "outputs": [
    {
     "data": {
      "text/plain": [
       "firm\n",
       "IBM                         60436\n",
       "McDonald-s                  49450\n",
       "Deloitte                    46995\n",
       "EY                          34050\n",
       "PwC                         33227\n",
       "                            ...  \n",
       "i-Net-Solution                  4\n",
       "Health-Protection-Agency        4\n",
       "The-Survey-Association          3\n",
       "NPSA                            2\n",
       "UKCIL                           1\n",
       "Name: count, Length: 428, dtype: int64"
      ]
     },
     "execution_count": 53,
     "metadata": {},
     "output_type": "execute_result"
    }
   ],
   "source": [
    "#number of reviews per company\n",
    "dataset['firm'].value_counts()"
   ]
  },
  {
   "cell_type": "code",
   "execution_count": 54,
   "metadata": {},
   "outputs": [
    {
     "data": {
      "text/plain": [
       "('2008-01-31', '2021-06-08')"
      ]
     },
     "execution_count": 54,
     "metadata": {},
     "output_type": "execute_result"
    }
   ],
   "source": [
    "#earliest and latest review dates\n",
    "min(dataset['date_review']), max(dataset['date_review'])"
   ]
  },
  {
   "cell_type": "code",
   "execution_count": 55,
   "metadata": {},
   "outputs": [
    {
     "data": {
      "text/plain": [
       "0"
      ]
     },
     "execution_count": 55,
     "metadata": {},
     "output_type": "execute_result"
    }
   ],
   "source": [
    "#all dates are length 10\n",
    "(np_len(dataset['date_review']) != 10).sum()"
   ]
  },
  {
   "cell_type": "code",
   "execution_count": 56,
   "metadata": {},
   "outputs": [
    {
     "data": {
      "text/plain": [
       "date_review\n",
       "2021    144578\n",
       "2020    140310\n",
       "2019    103288\n",
       "2017     91333\n",
       "2018     87954\n",
       "2016     84427\n",
       "2015     69241\n",
       "2014     39505\n",
       "2013     24696\n",
       "2012     20587\n",
       "2011     10886\n",
       "2010     10110\n",
       "2009      5958\n",
       "2008      5693\n",
       "Name: count, dtype: int64"
      ]
     },
     "execution_count": 56,
     "metadata": {},
     "output_type": "execute_result"
    }
   ],
   "source": [
    "#number of reviews per year\n",
    "review_years = dataset['date_review'].str.slice(0, 4)\n",
    "review_years.value_counts()"
   ]
  },
  {
   "cell_type": "code",
   "execution_count": 57,
   "metadata": {},
   "outputs": [
    {
     "name": "stdout",
     "output_type": "stream",
     "text": [
      "Number of empty string values in 'diversity_inclusion': 702500\n",
      "Proportion of empty string values in 'column_name': 0.8377396650949359\n"
     ]
    }
   ],
   "source": [
    "# dataset is the pd frame\n",
    "# Missing data\n",
    "\n",
    "count_missing_diversity = (dataset['diversity_inclusion'] == '').sum()\n",
    "print(f\"Number of empty string values in 'diversity_inclusion': {count_missing_diversity}\")\n",
    "\n",
    "# Proportion of the missing data comparing to the number of total observations\n",
    "propotion_empty_diversity = count_missing_diversity / len(dataset)\n",
    "print(f\"Proportion of empty string values in 'column_name': {propotion_empty_diversity}\")"
   ]
  },
  {
   "cell_type": "code",
   "execution_count": 58,
   "metadata": {},
   "outputs": [
    {
     "data": {
      "text/plain": [
       "{'work_life_balance': 0.17875039054767305,\n",
       " 'culture_values': 0.22821459491560592,\n",
       " 'career_opp': 0.17589670938244575,\n",
       " 'comp_benefits': 0.17897458279968423,\n",
       " 'senior_mgmt': 0.18588399720475193}"
      ]
     },
     "execution_count": 58,
     "metadata": {},
     "output_type": "execute_result"
    }
   ],
   "source": [
    "\n",
    "columns_to_check = [\"work_life_balance\", \"culture_values\", \"career_opp\", \"comp_benefits\", \"senior_mgmt\"]\n",
    "\n",
    "total_observations = len(dataset)\n",
    "missing_proportions = {}\n",
    "\n",
    "for column in columns_to_check:\n",
    "    # Count the number of null/missing values in the column\n",
    "    missing_count = (dataset[column] == '').sum()\n",
    "    \n",
    "    # Calculate the proportion of missing values\n",
    "    proportion_missing = missing_count / total_observations\n",
    "    \n",
    "    # Store the proportion in the dictionary\n",
    "    missing_proportions[column] = proportion_missing\n",
    "\n",
    "# Display the proportion of missing values for each column\n",
    "missing_proportions\n"
   ]
  },
  {
   "cell_type": "code",
   "execution_count": 78,
   "metadata": {},
   "outputs": [
    {
     "data": {
      "text/plain": [
       "culture_values       191373\n",
       "senior_mgmt          155876\n",
       "comp_benefits        150082\n",
       "work_life_balance    149894\n",
       "career_opp           147501\n",
       "dtype: int64"
      ]
     },
     "execution_count": 78,
     "metadata": {},
     "output_type": "execute_result"
    }
   ],
   "source": [
    "# Comprenhesive count of missing values in the dataset \n",
    "totals = dataset.isnull().sum().sort_values(ascending=False)\n",
    "totals[totals != 0]"
   ]
  },
  {
   "cell_type": "code",
   "execution_count": 59,
   "metadata": {},
   "outputs": [
    {
     "data": {
      "image/png": "[encoded data removed]",
      "text/plain": [
       "<Figure size 640x480 with 1 Axes>"
      ]
     },
     "metadata": {},
     "output_type": "display_data"
    }
   ],
   "source": [
    "# Rating analysis\n",
    "\n",
    "dataset['overall_rating'].plot.hist(bins=5, alpha=0.6)\n",
    "plt.title('Distribution of Overall Ratings')\n",
    "plt.xlabel('Rating')\n",
    "plt.ylabel('Frequency')\n",
    "plt.show()\n"
   ]
  },
  {
   "cell_type": "code",
   "execution_count": 60,
   "metadata": {},
   "outputs": [
    {
     "name": "stdout",
     "output_type": "stream",
     "text": [
      "work_life_balance    3.375735\n",
      "culture_values       3.590164\n",
      "career_opp           3.461825\n",
      "comp_benefits        3.398109\n",
      "senior_mgmt          3.176576\n",
      "dtype: float64\n",
      "firm                    object\n",
      "date_review             object\n",
      "job_title               object\n",
      "current                 object\n",
      "location                object\n",
      "overall_rating           int64\n",
      "work_life_balance      float64\n",
      "culture_values         float64\n",
      "diversity_inclusion     object\n",
      "career_opp             float64\n",
      "comp_benefits          float64\n",
      "senior_mgmt            float64\n",
      "recommend               object\n",
      "ceo_approv              object\n",
      "outlook                 object\n",
      "headline                object\n",
      "pros                    object\n",
      "cons                    object\n",
      "dtype: object\n"
     ]
    }
   ],
   "source": [
    "# Average rating per category\n",
    "# print(dataset.dtypes)\n",
    "\n",
    "categories = ['work_life_balance', 'culture_values', 'career_opp', 'comp_benefits', 'senior_mgmt']\n",
    "\n",
    "for category in categories:\n",
    "    dataset[category] = pd.to_numeric(dataset[category], errors='coerce')\n",
    "\n",
    "avg_ratings = dataset[categories].mean()\n",
    "\n",
    "print(avg_ratings)\n",
    "print(dataset.dtypes)\n"
   ]
  },
  {
   "cell_type": "code",
   "execution_count": 61,
   "metadata": {},
   "outputs": [
    {
     "name": "stdout",
     "output_type": "stream",
     "text": [
      "                   Current Employees  Former Employees\n",
      "work_life_balance           3.513872          3.174871\n",
      "culture_values              3.777628          3.322489\n",
      "career_opp                  3.617448          3.235914\n",
      "comp_benefits               3.484857          3.272066\n",
      "senior_mgmt                 3.347552          2.927575\n"
     ]
    }
   ],
   "source": [
    "# Ratings Comparison Between Current and Former Employees\n",
    "\n",
    "current_employees_dataset = dataset[dataset['current'].str.contains(\"Current\")]\n",
    "former_employees_dataset = dataset[dataset['current'].str.contains(\"Former\")]\n",
    "\n",
    "current_employees_avg_ratings = current_employees_dataset[categories].mean()\n",
    "former_employees_avg_ratings = former_employees_dataset[categories].mean()\n",
    "\n",
    "comparison_dataset = pd.DataFrame({'Current Employees': current_employees_avg_ratings, 'Former Employees': former_employees_avg_ratings})\n",
    "print(comparison_dataset)\n"
   ]
  },
  {
   "cell_type": "code",
   "execution_count": 62,
   "metadata": {},
   "outputs": [
    {
     "data": {
      "image/png": "[encoded data removed]",
      "text/plain": [
       "<Figure size 1000x800 with 2 Axes>"
      ]
     },
     "metadata": {},
     "output_type": "display_data"
    }
   ],
   "source": [
    "# Correlation Between Ratings\n",
    "correlation_matrix = dataset[categories].corr()\n",
    "\n",
    "plt.figure(figsize=(10, 8))\n",
    "sns.heatmap(correlation_matrix, annot=True, cmap='coolwarm', fmt=\".2f\")\n",
    "plt.title('Correlation Matrix of Rating Categories')\n",
    "plt.show()"
   ]
  },
  {
   "cell_type": "code",
   "execution_count": 63,
   "metadata": {},
   "outputs": [
    {
     "data": {
      "text/plain": [
       "count    838566.000000\n",
       "mean          3.655956\n",
       "std           1.174684\n",
       "min           1.000000\n",
       "25%           3.000000\n",
       "50%           4.000000\n",
       "75%           5.000000\n",
       "max           5.000000\n",
       "Name: overall_rating, dtype: float64"
      ]
     },
     "execution_count": 63,
     "metadata": {},
     "output_type": "execute_result"
    }
   ],
   "source": [
    "# Descriptive statistics summary for overall_rating\n",
    "\n",
    "dataset['overall_rating'].describe()"
   ]
  },
  {
   "cell_type": "code",
   "execution_count": 64,
   "metadata": {},
   "outputs": [
    {
     "name": "stdout",
     "output_type": "stream",
     "text": [
      "recommend\n",
      "v    427865\n",
      "o    234248\n",
      "x    176453\n",
      "Name: count, dtype: int64\n",
      "\n",
      "ceo_approv\n",
      "o    311433\n",
      "v    286695\n",
      "r    176930\n",
      "x     63508\n",
      "Name: count, dtype: int64\n",
      "\n",
      "outlook\n",
      "v    301413\n",
      "o    294548\n",
      "r    154948\n",
      "x     87657\n",
      "Name: count, dtype: int64\n",
      "\n"
     ]
    }
   ],
   "source": [
    "# Analysis of fields with fixed, non-integer rating values\n",
    "# TODO: preprocess these to integer values\n",
    "\n",
    "for column in ['recommend',\t'ceo_approv', 'outlook']: \n",
    "    print(f\"{dataset[column].value_counts()}\\n\")"
   ]
  }
 ],
 "metadata": {
  "kernelspec": {
   "display_name": "Python 3",
   "language": "python",
   "name": "python3"
  },
  "language_info": {
   "codemirror_mode": {
    "name": "ipython",
    "version": 3
   },
   "file_extension": ".py",
   "mimetype": "text/x-python",
   "name": "python",
   "nbconvert_exporter": "python",
   "pygments_lexer": "ipython3",
   "version": "3.10.3"
  }
 },
 "nbformat": 4,
 "nbformat_minor": 2
}
