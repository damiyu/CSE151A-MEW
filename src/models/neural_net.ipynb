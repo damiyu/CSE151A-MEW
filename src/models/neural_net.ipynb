{
 "cells": [
  {
   "cell_type": "markdown",
   "metadata": {},
   "source": [
    "## Preprocessing"
   ]
  },
  {
   "cell_type": "code",
   "execution_count": 1,
   "metadata": {},
   "outputs": [
    {
     "name": "stdout",
     "output_type": "stream",
     "text": [
      "WARNING:tensorflow:From C:\\Users\\Albert Chen\\AppData\\Local\\Packages\\PythonSoftwareFoundation.Python.3.11_qbz5n2kfra8p0\\LocalCache\\local-packages\\Python311\\site-packages\\keras\\src\\losses.py:2976: The name tf.losses.sparse_softmax_cross_entropy is deprecated. Please use tf.compat.v1.losses.sparse_softmax_cross_entropy instead.\n",
      "\n"
     ]
    }
   ],
   "source": [
    "# Imports here\n",
    "import numpy as np\n",
    "import pandas as pd\n",
    "import json\n",
    "from sklearn.preprocessing import MinMaxScaler\n",
    "from sklearn.model_selection import train_test_split\n",
    "from sklearn.metrics import mean_absolute_error, r2_score\n",
    "from scikeras.wrappers import KerasClassifier, KerasRegressor\n",
    "from keras.models import Sequential\n",
    "from keras.layers import Dense\n",
    "from keras.optimizers import SGD\n",
    "from sklearn.metrics import confusion_matrix\n",
    "import matplotlib.pyplot as plt\n",
    "import seaborn as sns"
   ]
  },
  {
   "cell_type": "code",
   "execution_count": 2,
   "metadata": {},
   "outputs": [],
   "source": [
    "# Dataset here\n",
    "file = open(\"../dataset/processed_reviews.json\", 'r', encoding='utf8')\n",
    "dataset_dict = json.load(file)\n",
    "df_raw = pd.DataFrame(dataset_dict)"
   ]
  },
  {
   "cell_type": "code",
   "execution_count": 3,
   "metadata": {},
   "outputs": [],
   "source": [
    "# Unused features\n",
    "df = df_raw.copy(deep=True) #Do this so that I dont have to rerun the previous cell every time I make a change\n",
    "df.drop(columns=['firm','job_title'], inplace=True) #one hotting these would create too many features\n",
    "\n",
    "# Split up Date\n",
    "df['date'] = pd.to_datetime(df['date_review'])\n",
    "df['month'] = df['date'].dt.month.astype(str)\n",
    "df['year'] = df['date'].dt.year\n",
    "\n",
    "# Consider the length text inputs\n",
    "df['pros_length'] = df['pros'].apply(lambda x: len(x))\n",
    "df['cons_length'] = df['cons'].apply(lambda x: len(x))\n",
    "df.drop(columns=['headline', 'pros', 'cons'], inplace=True)\n",
    "\n",
    "# Encode 'current' as int\n",
    "df['current'] = (df['current'] == 'Current Employee').astype(int)\n",
    "\n",
    "# Min-max normalization\n",
    "scaler = MinMaxScaler()\n",
    "numeric_cols = df.select_dtypes(include=['int', 'float']).columns\n",
    "df[numeric_cols] = scaler.fit_transform(df[numeric_cols])\n",
    "\n",
    "#One hot encode\n",
    "one_hot_encoded = pd.get_dummies(df[['recommend', 'ceo_approv', 'outlook', 'month', 'duration']])\n",
    "df = pd.concat([df, one_hot_encoded], axis=1)\n",
    "df.drop(columns=['date', 'date_review', 'recommend', 'ceo_approv', 'outlook', 'month', 'duration'], inplace=True)"
   ]
  },
  {
   "cell_type": "code",
   "execution_count": 4,
   "metadata": {},
   "outputs": [
    {
     "name": "stdout",
     "output_type": "stream",
     "text": [
      "Index(['current', 'overall_rating', 'work_life_balance', 'culture_values',\n",
      "       'career_opp', 'comp_benefits', 'senior_mgmt', 'year', 'pros_length',\n",
      "       'cons_length', 'recommend_o', 'recommend_v', 'recommend_x',\n",
      "       'ceo_approv_o', 'ceo_approv_r', 'ceo_approv_v', 'ceo_approv_x',\n",
      "       'outlook_o', 'outlook_r', 'outlook_v', 'outlook_x', 'month_1',\n",
      "       'month_10', 'month_11', 'month_12', 'month_2', 'month_3', 'month_4',\n",
      "       'month_5', 'month_6', 'month_7', 'month_8', 'month_9',\n",
      "       'duration_less than 1 year', 'duration_more than 1 year',\n",
      "       'duration_more than 10 years', 'duration_more than 3 years',\n",
      "       'duration_more than 5 years', 'duration_more than 8 years',\n",
      "       'duration_not mentioned'],\n",
      "      dtype='object')\n"
     ]
    },
    {
     "data": {
      "text/html": [
       "<div>\n",
       "<style scoped>\n",
       "    .dataframe tbody tr th:only-of-type {\n",
       "        vertical-align: middle;\n",
       "    }\n",
       "\n",
       "    .dataframe tbody tr th {\n",
       "        vertical-align: top;\n",
       "    }\n",
       "\n",
       "    .dataframe thead th {\n",
       "        text-align: right;\n",
       "    }\n",
       "</style>\n",
       "<table border=\"1\" class=\"dataframe\">\n",
       "  <thead>\n",
       "    <tr style=\"text-align: right;\">\n",
       "      <th></th>\n",
       "      <th>current</th>\n",
       "      <th>overall_rating</th>\n",
       "      <th>work_life_balance</th>\n",
       "      <th>culture_values</th>\n",
       "      <th>career_opp</th>\n",
       "      <th>comp_benefits</th>\n",
       "      <th>senior_mgmt</th>\n",
       "      <th>year</th>\n",
       "      <th>pros_length</th>\n",
       "      <th>cons_length</th>\n",
       "      <th>...</th>\n",
       "      <th>month_7</th>\n",
       "      <th>month_8</th>\n",
       "      <th>month_9</th>\n",
       "      <th>duration_less than 1 year</th>\n",
       "      <th>duration_more than 1 year</th>\n",
       "      <th>duration_more than 10 years</th>\n",
       "      <th>duration_more than 3 years</th>\n",
       "      <th>duration_more than 5 years</th>\n",
       "      <th>duration_more than 8 years</th>\n",
       "      <th>duration_not mentioned</th>\n",
       "    </tr>\n",
       "  </thead>\n",
       "  <tbody>\n",
       "    <tr>\n",
       "      <th>0</th>\n",
       "      <td>1.0</td>\n",
       "      <td>0.25</td>\n",
       "      <td>0.50</td>\n",
       "      <td>0.00</td>\n",
       "      <td>0.25</td>\n",
       "      <td>0.0</td>\n",
       "      <td>0.75</td>\n",
       "      <td>0.538462</td>\n",
       "      <td>0.002257</td>\n",
       "      <td>0.011246</td>\n",
       "      <td>...</td>\n",
       "      <td>False</td>\n",
       "      <td>False</td>\n",
       "      <td>False</td>\n",
       "      <td>False</td>\n",
       "      <td>True</td>\n",
       "      <td>False</td>\n",
       "      <td>False</td>\n",
       "      <td>False</td>\n",
       "      <td>False</td>\n",
       "      <td>False</td>\n",
       "    </tr>\n",
       "    <tr>\n",
       "      <th>1</th>\n",
       "      <td>1.0</td>\n",
       "      <td>0.00</td>\n",
       "      <td>0.00</td>\n",
       "      <td>0.00</td>\n",
       "      <td>0.00</td>\n",
       "      <td>0.0</td>\n",
       "      <td>0.00</td>\n",
       "      <td>0.615385</td>\n",
       "      <td>0.002753</td>\n",
       "      <td>0.020727</td>\n",
       "      <td>...</td>\n",
       "      <td>False</td>\n",
       "      <td>False</td>\n",
       "      <td>False</td>\n",
       "      <td>True</td>\n",
       "      <td>False</td>\n",
       "      <td>False</td>\n",
       "      <td>False</td>\n",
       "      <td>False</td>\n",
       "      <td>False</td>\n",
       "      <td>False</td>\n",
       "    </tr>\n",
       "    <tr>\n",
       "      <th>2</th>\n",
       "      <td>1.0</td>\n",
       "      <td>0.00</td>\n",
       "      <td>0.25</td>\n",
       "      <td>0.00</td>\n",
       "      <td>0.25</td>\n",
       "      <td>0.0</td>\n",
       "      <td>0.00</td>\n",
       "      <td>0.615385</td>\n",
       "      <td>0.001817</td>\n",
       "      <td>0.020541</td>\n",
       "      <td>...</td>\n",
       "      <td>False</td>\n",
       "      <td>False</td>\n",
       "      <td>False</td>\n",
       "      <td>False</td>\n",
       "      <td>True</td>\n",
       "      <td>False</td>\n",
       "      <td>False</td>\n",
       "      <td>False</td>\n",
       "      <td>False</td>\n",
       "      <td>False</td>\n",
       "    </tr>\n",
       "    <tr>\n",
       "      <th>3</th>\n",
       "      <td>1.0</td>\n",
       "      <td>0.50</td>\n",
       "      <td>0.75</td>\n",
       "      <td>0.25</td>\n",
       "      <td>0.25</td>\n",
       "      <td>0.5</td>\n",
       "      <td>0.25</td>\n",
       "      <td>0.615385</td>\n",
       "      <td>0.006607</td>\n",
       "      <td>0.009573</td>\n",
       "      <td>...</td>\n",
       "      <td>False</td>\n",
       "      <td>False</td>\n",
       "      <td>False</td>\n",
       "      <td>True</td>\n",
       "      <td>False</td>\n",
       "      <td>False</td>\n",
       "      <td>False</td>\n",
       "      <td>False</td>\n",
       "      <td>False</td>\n",
       "      <td>False</td>\n",
       "    </tr>\n",
       "    <tr>\n",
       "      <th>4</th>\n",
       "      <td>0.0</td>\n",
       "      <td>0.00</td>\n",
       "      <td>0.00</td>\n",
       "      <td>0.00</td>\n",
       "      <td>0.00</td>\n",
       "      <td>0.0</td>\n",
       "      <td>0.00</td>\n",
       "      <td>0.615385</td>\n",
       "      <td>0.005726</td>\n",
       "      <td>0.022493</td>\n",
       "      <td>...</td>\n",
       "      <td>False</td>\n",
       "      <td>False</td>\n",
       "      <td>True</td>\n",
       "      <td>False</td>\n",
       "      <td>False</td>\n",
       "      <td>False</td>\n",
       "      <td>False</td>\n",
       "      <td>False</td>\n",
       "      <td>False</td>\n",
       "      <td>True</td>\n",
       "    </tr>\n",
       "  </tbody>\n",
       "</table>\n",
       "<p>5 rows × 40 columns</p>\n",
       "</div>"
      ],
      "text/plain": [
       "   current  overall_rating  work_life_balance  culture_values  career_opp  \\\n",
       "0      1.0            0.25               0.50            0.00        0.25   \n",
       "1      1.0            0.00               0.00            0.00        0.00   \n",
       "2      1.0            0.00               0.25            0.00        0.25   \n",
       "3      1.0            0.50               0.75            0.25        0.25   \n",
       "4      0.0            0.00               0.00            0.00        0.00   \n",
       "\n",
       "   comp_benefits  senior_mgmt      year  pros_length  cons_length  ...  \\\n",
       "0            0.0         0.75  0.538462     0.002257     0.011246  ...   \n",
       "1            0.0         0.00  0.615385     0.002753     0.020727  ...   \n",
       "2            0.0         0.00  0.615385     0.001817     0.020541  ...   \n",
       "3            0.5         0.25  0.615385     0.006607     0.009573  ...   \n",
       "4            0.0         0.00  0.615385     0.005726     0.022493  ...   \n",
       "\n",
       "   month_7  month_8  month_9  duration_less than 1 year  \\\n",
       "0    False    False    False                      False   \n",
       "1    False    False    False                       True   \n",
       "2    False    False    False                      False   \n",
       "3    False    False    False                       True   \n",
       "4    False    False     True                      False   \n",
       "\n",
       "   duration_more than 1 year  duration_more than 10 years  \\\n",
       "0                       True                        False   \n",
       "1                      False                        False   \n",
       "2                       True                        False   \n",
       "3                      False                        False   \n",
       "4                      False                        False   \n",
       "\n",
       "   duration_more than 3 years  duration_more than 5 years  \\\n",
       "0                       False                       False   \n",
       "1                       False                       False   \n",
       "2                       False                       False   \n",
       "3                       False                       False   \n",
       "4                       False                       False   \n",
       "\n",
       "   duration_more than 8 years  duration_not mentioned  \n",
       "0                       False                   False  \n",
       "1                       False                   False  \n",
       "2                       False                   False  \n",
       "3                       False                   False  \n",
       "4                       False                    True  \n",
       "\n",
       "[5 rows x 40 columns]"
      ]
     },
     "execution_count": 4,
     "metadata": {},
     "output_type": "execute_result"
    }
   ],
   "source": [
    "print(df.columns)\n",
    "df.head()"
   ]
  },
  {
   "cell_type": "code",
   "execution_count": 5,
   "metadata": {},
   "outputs": [
    {
     "name": "stdout",
     "output_type": "stream",
     "text": [
      "Training set shape: (681651, 39) (681651,)\n",
      "Testing set shape: (75740, 39) (75740,)\n"
     ]
    }
   ],
   "source": [
    "#Spliting the data\n",
    "X = df.drop(columns=['overall_rating'])\n",
    "y = df['overall_rating']\n",
    "\n",
    "X_train, X_test, y_train, y_test = train_test_split(X, y, test_size=0.1, random_state=0)\n",
    "print(\"Training set shape:\", X_train.shape, y_train.shape)\n",
    "print(\"Testing set shape:\", X_test.shape, y_test.shape)"
   ]
  },
  {
   "cell_type": "markdown",
   "metadata": {},
   "source": [
    "## Model Training"
   ]
  },
  {
   "cell_type": "code",
   "execution_count": 6,
   "metadata": {},
   "outputs": [],
   "source": [
    "import tensorflow as tf\n",
    "\n",
    "early_stopping = tf.keras.callbacks.EarlyStopping(\n",
    "    monitor='val_loss',\n",
    "    min_delta=0,\n",
    "    patience=0,\n",
    "    verbose=0,\n",
    "    mode='auto',\n",
    "    baseline=None,\n",
    "    restore_best_weights=False,\n",
    "    start_from_epoch=0\n",
    ")"
   ]
  },
  {
   "cell_type": "code",
   "execution_count": 40,
   "metadata": {},
   "outputs": [
    {
     "name": "stdout",
     "output_type": "stream",
     "text": [
      "Epoch 1/100\n",
      "682/682 [==============================] - 1s 1ms/step - loss: 0.0625 - MSE: 0.0625 - val_loss: 0.0358 - val_MSE: 0.0358\n",
      "Epoch 2/100\n",
      "682/682 [==============================] - 1s 986us/step - loss: 0.0332 - MSE: 0.0332 - val_loss: 0.0320 - val_MSE: 0.0320\n",
      "Epoch 3/100\n",
      "682/682 [==============================] - 1s 912us/step - loss: 0.0312 - MSE: 0.0312 - val_loss: 0.0311 - val_MSE: 0.0311\n",
      "Epoch 4/100\n",
      "682/682 [==============================] - 1s 889us/step - loss: 0.0307 - MSE: 0.0307 - val_loss: 0.0308 - val_MSE: 0.0308\n",
      "Epoch 5/100\n",
      "682/682 [==============================] - 1s 894us/step - loss: 0.0305 - MSE: 0.0305 - val_loss: 0.0307 - val_MSE: 0.0307\n",
      "Epoch 6/100\n",
      "682/682 [==============================] - 1s 894us/step - loss: 0.0304 - MSE: 0.0304 - val_loss: 0.0306 - val_MSE: 0.0306\n",
      "Epoch 7/100\n",
      "682/682 [==============================] - 1s 897us/step - loss: 0.0303 - MSE: 0.0303 - val_loss: 0.0305 - val_MSE: 0.0305\n",
      "Epoch 8/100\n",
      "682/682 [==============================] - 1s 887us/step - loss: 0.0303 - MSE: 0.0303 - val_loss: 0.0305 - val_MSE: 0.0305\n",
      "Epoch 9/100\n",
      "682/682 [==============================] - 1s 889us/step - loss: 0.0302 - MSE: 0.0302 - val_loss: 0.0304 - val_MSE: 0.0304\n",
      "Epoch 10/100\n",
      "682/682 [==============================] - 1s 896us/step - loss: 0.0302 - MSE: 0.0302 - val_loss: 0.0304 - val_MSE: 0.0304\n",
      "Epoch 11/100\n",
      "682/682 [==============================] - 1s 894us/step - loss: 0.0302 - MSE: 0.0302 - val_loss: 0.0304 - val_MSE: 0.0304\n",
      "Epoch 12/100\n",
      "682/682 [==============================] - 1s 918us/step - loss: 0.0301 - MSE: 0.0301 - val_loss: 0.0305 - val_MSE: 0.0305\n",
      "Epoch 13/100\n",
      "682/682 [==============================] - 1s 899us/step - loss: 0.0301 - MSE: 0.0301 - val_loss: 0.0303 - val_MSE: 0.0303\n",
      "Epoch 14/100\n",
      "682/682 [==============================] - 1s 908us/step - loss: 0.0301 - MSE: 0.0301 - val_loss: 0.0303 - val_MSE: 0.0303\n",
      "Epoch 15/100\n",
      "682/682 [==============================] - 1s 897us/step - loss: 0.0301 - MSE: 0.0301 - val_loss: 0.0303 - val_MSE: 0.0303\n",
      "Epoch 16/100\n",
      "682/682 [==============================] - 1s 899us/step - loss: 0.0300 - MSE: 0.0300 - val_loss: 0.0302 - val_MSE: 0.0302\n",
      "Epoch 17/100\n",
      "682/682 [==============================] - 1s 903us/step - loss: 0.0300 - MSE: 0.0300 - val_loss: 0.0302 - val_MSE: 0.0302\n",
      "Epoch 18/100\n",
      "682/682 [==============================] - 1s 899us/step - loss: 0.0300 - MSE: 0.0300 - val_loss: 0.0302 - val_MSE: 0.0302\n",
      "Epoch 19/100\n",
      "682/682 [==============================] - 1s 896us/step - loss: 0.0300 - MSE: 0.0300 - val_loss: 0.0302 - val_MSE: 0.0302\n",
      "Epoch 20/100\n",
      "682/682 [==============================] - 1s 899us/step - loss: 0.0299 - MSE: 0.0299 - val_loss: 0.0301 - val_MSE: 0.0301\n",
      "Epoch 21/100\n",
      "682/682 [==============================] - 1s 1ms/step - loss: 0.0299 - MSE: 0.0299 - val_loss: 0.0301 - val_MSE: 0.0301\n",
      "Epoch 22/100\n",
      "682/682 [==============================] - 1s 949us/step - loss: 0.0299 - MSE: 0.0299 - val_loss: 0.0301 - val_MSE: 0.0301\n",
      "Epoch 23/100\n",
      "682/682 [==============================] - 1s 917us/step - loss: 0.0299 - MSE: 0.0299 - val_loss: 0.0301 - val_MSE: 0.0301\n",
      "Epoch 24/100\n",
      "682/682 [==============================] - 1s 922us/step - loss: 0.0298 - MSE: 0.0298 - val_loss: 0.0301 - val_MSE: 0.0301\n",
      "Epoch 25/100\n",
      "682/682 [==============================] - 1s 906us/step - loss: 0.0298 - MSE: 0.0298 - val_loss: 0.0300 - val_MSE: 0.0300\n",
      "Epoch 26/100\n",
      "682/682 [==============================] - 1s 908us/step - loss: 0.0298 - MSE: 0.0298 - val_loss: 0.0301 - val_MSE: 0.0301\n",
      "Epoch 27/100\n",
      "682/682 [==============================] - 1s 924us/step - loss: 0.0298 - MSE: 0.0298 - val_loss: 0.0300 - val_MSE: 0.0300\n",
      "Epoch 28/100\n",
      "682/682 [==============================] - 1s 934us/step - loss: 0.0297 - MSE: 0.0297 - val_loss: 0.0300 - val_MSE: 0.0300\n",
      "Epoch 29/100\n",
      "682/682 [==============================] - 1s 937us/step - loss: 0.0297 - MSE: 0.0297 - val_loss: 0.0299 - val_MSE: 0.0299\n",
      "Epoch 30/100\n",
      "682/682 [==============================] - 1s 924us/step - loss: 0.0297 - MSE: 0.0297 - val_loss: 0.0300 - val_MSE: 0.0300\n",
      "Epoch 31/100\n",
      "682/682 [==============================] - 1s 921us/step - loss: 0.0297 - MSE: 0.0297 - val_loss: 0.0299 - val_MSE: 0.0299\n",
      "Epoch 32/100\n",
      "682/682 [==============================] - 1s 922us/step - loss: 0.0297 - MSE: 0.0297 - val_loss: 0.0298 - val_MSE: 0.0298\n",
      "Epoch 33/100\n",
      "682/682 [==============================] - 1s 919us/step - loss: 0.0296 - MSE: 0.0296 - val_loss: 0.0298 - val_MSE: 0.0298\n",
      "Epoch 34/100\n",
      "682/682 [==============================] - 1s 941us/step - loss: 0.0296 - MSE: 0.0296 - val_loss: 0.0298 - val_MSE: 0.0298\n",
      "Epoch 35/100\n",
      "682/682 [==============================] - 1s 914us/step - loss: 0.0296 - MSE: 0.0296 - val_loss: 0.0298 - val_MSE: 0.0298\n",
      "Epoch 36/100\n",
      "682/682 [==============================] - 1s 928us/step - loss: 0.0296 - MSE: 0.0296 - val_loss: 0.0298 - val_MSE: 0.0298\n",
      "Epoch 37/100\n",
      "682/682 [==============================] - 1s 940us/step - loss: 0.0295 - MSE: 0.0295 - val_loss: 0.0297 - val_MSE: 0.0297\n",
      "Epoch 38/100\n",
      "682/682 [==============================] - 1s 924us/step - loss: 0.0295 - MSE: 0.0295 - val_loss: 0.0297 - val_MSE: 0.0297\n",
      "Epoch 39/100\n",
      "682/682 [==============================] - 1s 908us/step - loss: 0.0295 - MSE: 0.0295 - val_loss: 0.0297 - val_MSE: 0.0297\n",
      "Epoch 40/100\n",
      "682/682 [==============================] - 1s 928us/step - loss: 0.0295 - MSE: 0.0295 - val_loss: 0.0297 - val_MSE: 0.0297\n",
      "Epoch 41/100\n",
      "682/682 [==============================] - 1s 887us/step - loss: 0.0294 - MSE: 0.0294 - val_loss: 0.0296 - val_MSE: 0.0296\n",
      "Epoch 42/100\n",
      "682/682 [==============================] - 1s 872us/step - loss: 0.0294 - MSE: 0.0294 - val_loss: 0.0296 - val_MSE: 0.0296\n",
      "Epoch 43/100\n",
      "682/682 [==============================] - 1s 877us/step - loss: 0.0294 - MSE: 0.0294 - val_loss: 0.0297 - val_MSE: 0.0297\n",
      "Epoch 44/100\n",
      "682/682 [==============================] - 1s 877us/step - loss: 0.0294 - MSE: 0.0294 - val_loss: 0.0296 - val_MSE: 0.0296\n",
      "Epoch 45/100\n",
      "682/682 [==============================] - 1s 915us/step - loss: 0.0294 - MSE: 0.0294 - val_loss: 0.0296 - val_MSE: 0.0296\n",
      "Epoch 46/100\n",
      "682/682 [==============================] - 1s 897us/step - loss: 0.0293 - MSE: 0.0293 - val_loss: 0.0295 - val_MSE: 0.0295\n",
      "Epoch 47/100\n",
      "682/682 [==============================] - 1s 894us/step - loss: 0.0293 - MSE: 0.0293 - val_loss: 0.0295 - val_MSE: 0.0295\n",
      "Epoch 48/100\n",
      "682/682 [==============================] - 1s 911us/step - loss: 0.0293 - MSE: 0.0293 - val_loss: 0.0295 - val_MSE: 0.0295\n",
      "Epoch 49/100\n",
      "682/682 [==============================] - 1s 928us/step - loss: 0.0293 - MSE: 0.0293 - val_loss: 0.0295 - val_MSE: 0.0295\n",
      "Epoch 50/100\n",
      "682/682 [==============================] - 1s 908us/step - loss: 0.0293 - MSE: 0.0293 - val_loss: 0.0295 - val_MSE: 0.0295\n",
      "Epoch 51/100\n",
      "682/682 [==============================] - 1s 884us/step - loss: 0.0293 - MSE: 0.0293 - val_loss: 0.0295 - val_MSE: 0.0295\n",
      "Epoch 52/100\n",
      "682/682 [==============================] - 1s 878us/step - loss: 0.0292 - MSE: 0.0292 - val_loss: 0.0294 - val_MSE: 0.0294\n",
      "Epoch 53/100\n",
      "682/682 [==============================] - 1s 884us/step - loss: 0.0292 - MSE: 0.0292 - val_loss: 0.0296 - val_MSE: 0.0296\n",
      "Epoch 54/100\n",
      "682/682 [==============================] - 1s 896us/step - loss: 0.0292 - MSE: 0.0292 - val_loss: 0.0294 - val_MSE: 0.0294\n",
      "Epoch 55/100\n",
      "682/682 [==============================] - 1s 894us/step - loss: 0.0292 - MSE: 0.0292 - val_loss: 0.0294 - val_MSE: 0.0294\n",
      "Epoch 56/100\n",
      "682/682 [==============================] - 1s 897us/step - loss: 0.0292 - MSE: 0.0292 - val_loss: 0.0294 - val_MSE: 0.0294\n",
      "Epoch 57/100\n",
      "682/682 [==============================] - 1s 878us/step - loss: 0.0292 - MSE: 0.0292 - val_loss: 0.0294 - val_MSE: 0.0294\n",
      "Epoch 58/100\n",
      "682/682 [==============================] - 1s 878us/step - loss: 0.0292 - MSE: 0.0292 - val_loss: 0.0294 - val_MSE: 0.0294\n",
      "Epoch 59/100\n",
      "682/682 [==============================] - 1s 896us/step - loss: 0.0292 - MSE: 0.0292 - val_loss: 0.0294 - val_MSE: 0.0294\n",
      "Epoch 60/100\n",
      "682/682 [==============================] - 1s 887us/step - loss: 0.0291 - MSE: 0.0291 - val_loss: 0.0293 - val_MSE: 0.0293\n",
      "Epoch 61/100\n",
      "682/682 [==============================] - 1s 941us/step - loss: 0.0291 - MSE: 0.0291 - val_loss: 0.0294 - val_MSE: 0.0294\n",
      "Epoch 62/100\n",
      "682/682 [==============================] - 1s 911us/step - loss: 0.0291 - MSE: 0.0291 - val_loss: 0.0293 - val_MSE: 0.0293\n",
      "Epoch 63/100\n",
      "682/682 [==============================] - 1s 893us/step - loss: 0.0291 - MSE: 0.0291 - val_loss: 0.0293 - val_MSE: 0.0293\n",
      "Epoch 64/100\n",
      "682/682 [==============================] - 1s 903us/step - loss: 0.0291 - MSE: 0.0291 - val_loss: 0.0293 - val_MSE: 0.0293\n",
      "Epoch 65/100\n",
      "682/682 [==============================] - 1s 911us/step - loss: 0.0291 - MSE: 0.0291 - val_loss: 0.0293 - val_MSE: 0.0293\n",
      "Epoch 66/100\n",
      "682/682 [==============================] - 1s 908us/step - loss: 0.0291 - MSE: 0.0291 - val_loss: 0.0293 - val_MSE: 0.0293\n",
      "Epoch 67/100\n",
      "682/682 [==============================] - 1s 903us/step - loss: 0.0291 - MSE: 0.0291 - val_loss: 0.0293 - val_MSE: 0.0293\n",
      "Epoch 68/100\n",
      "682/682 [==============================] - 1s 893us/step - loss: 0.0291 - MSE: 0.0291 - val_loss: 0.0292 - val_MSE: 0.0292\n",
      "Epoch 69/100\n",
      "682/682 [==============================] - 1s 890us/step - loss: 0.0290 - MSE: 0.0290 - val_loss: 0.0293 - val_MSE: 0.0293\n",
      "Epoch 70/100\n",
      "682/682 [==============================] - 1s 894us/step - loss: 0.0290 - MSE: 0.0290 - val_loss: 0.0293 - val_MSE: 0.0293\n",
      "Epoch 71/100\n",
      "682/682 [==============================] - 1s 892us/step - loss: 0.0290 - MSE: 0.0290 - val_loss: 0.0293 - val_MSE: 0.0293\n",
      "Epoch 72/100\n",
      "682/682 [==============================] - 1s 887us/step - loss: 0.0290 - MSE: 0.0290 - val_loss: 0.0293 - val_MSE: 0.0293\n",
      "Epoch 73/100\n",
      "682/682 [==============================] - 1s 893us/step - loss: 0.0290 - MSE: 0.0290 - val_loss: 0.0292 - val_MSE: 0.0292\n",
      "Epoch 74/100\n",
      "682/682 [==============================] - 1s 905us/step - loss: 0.0290 - MSE: 0.0290 - val_loss: 0.0293 - val_MSE: 0.0293\n",
      "Epoch 75/100\n",
      "682/682 [==============================] - 1s 919us/step - loss: 0.0290 - MSE: 0.0290 - val_loss: 0.0292 - val_MSE: 0.0292\n",
      "Epoch 76/100\n",
      "682/682 [==============================] - 1s 981us/step - loss: 0.0290 - MSE: 0.0290 - val_loss: 0.0292 - val_MSE: 0.0292\n",
      "Epoch 77/100\n",
      "682/682 [==============================] - 1s 941us/step - loss: 0.0290 - MSE: 0.0290 - val_loss: 0.0293 - val_MSE: 0.0293\n",
      "Epoch 78/100\n",
      "682/682 [==============================] - 1s 924us/step - loss: 0.0290 - MSE: 0.0290 - val_loss: 0.0292 - val_MSE: 0.0292\n",
      "Epoch 79/100\n",
      "682/682 [==============================] - 1s 928us/step - loss: 0.0290 - MSE: 0.0290 - val_loss: 0.0292 - val_MSE: 0.0292\n",
      "Epoch 80/100\n",
      "682/682 [==============================] - 1s 931us/step - loss: 0.0290 - MSE: 0.0290 - val_loss: 0.0291 - val_MSE: 0.0291\n",
      "Epoch 81/100\n",
      "682/682 [==============================] - 1s 921us/step - loss: 0.0289 - MSE: 0.0289 - val_loss: 0.0293 - val_MSE: 0.0293\n",
      "Epoch 82/100\n",
      "682/682 [==============================] - 1s 930us/step - loss: 0.0289 - MSE: 0.0289 - val_loss: 0.0292 - val_MSE: 0.0292\n",
      "Epoch 83/100\n",
      "682/682 [==============================] - 1s 905us/step - loss: 0.0289 - MSE: 0.0289 - val_loss: 0.0292 - val_MSE: 0.0292\n",
      "Epoch 84/100\n",
      "682/682 [==============================] - 1s 906us/step - loss: 0.0289 - MSE: 0.0289 - val_loss: 0.0292 - val_MSE: 0.0292\n",
      "Epoch 85/100\n",
      "682/682 [==============================] - 1s 915us/step - loss: 0.0289 - MSE: 0.0289 - val_loss: 0.0291 - val_MSE: 0.0291\n",
      "Epoch 86/100\n",
      "682/682 [==============================] - 1s 899us/step - loss: 0.0289 - MSE: 0.0289 - val_loss: 0.0292 - val_MSE: 0.0292\n",
      "Epoch 87/100\n",
      "682/682 [==============================] - 1s 890us/step - loss: 0.0289 - MSE: 0.0289 - val_loss: 0.0291 - val_MSE: 0.0291\n",
      "Epoch 88/100\n",
      "682/682 [==============================] - 1s 908us/step - loss: 0.0289 - MSE: 0.0289 - val_loss: 0.0292 - val_MSE: 0.0292\n",
      "Epoch 89/100\n",
      "682/682 [==============================] - 1s 894us/step - loss: 0.0289 - MSE: 0.0289 - val_loss: 0.0291 - val_MSE: 0.0291\n",
      "Epoch 90/100\n",
      "682/682 [==============================] - 1s 886us/step - loss: 0.0289 - MSE: 0.0289 - val_loss: 0.0291 - val_MSE: 0.0291\n",
      "Epoch 91/100\n",
      "682/682 [==============================] - 1s 887us/step - loss: 0.0289 - MSE: 0.0289 - val_loss: 0.0291 - val_MSE: 0.0291\n",
      "Epoch 92/100\n",
      "682/682 [==============================] - 1s 887us/step - loss: 0.0289 - MSE: 0.0289 - val_loss: 0.0291 - val_MSE: 0.0291\n",
      "Epoch 93/100\n",
      "682/682 [==============================] - 1s 924us/step - loss: 0.0289 - MSE: 0.0289 - val_loss: 0.0291 - val_MSE: 0.0291\n",
      "Epoch 94/100\n",
      "682/682 [==============================] - 1s 889us/step - loss: 0.0289 - MSE: 0.0289 - val_loss: 0.0291 - val_MSE: 0.0291\n",
      "Epoch 95/100\n",
      "682/682 [==============================] - 1s 887us/step - loss: 0.0289 - MSE: 0.0289 - val_loss: 0.0291 - val_MSE: 0.0291\n",
      "Epoch 96/100\n",
      "682/682 [==============================] - 1s 925us/step - loss: 0.0289 - MSE: 0.0289 - val_loss: 0.0290 - val_MSE: 0.0290\n",
      "Epoch 97/100\n",
      "682/682 [==============================] - 1s 903us/step - loss: 0.0289 - MSE: 0.0289 - val_loss: 0.0291 - val_MSE: 0.0291\n",
      "Epoch 98/100\n",
      "682/682 [==============================] - 1s 931us/step - loss: 0.0288 - MSE: 0.0288 - val_loss: 0.0290 - val_MSE: 0.0290\n",
      "Epoch 99/100\n",
      "682/682 [==============================] - 1s 919us/step - loss: 0.0288 - MSE: 0.0288 - val_loss: 0.0291 - val_MSE: 0.0291\n",
      "Epoch 100/100\n",
      "682/682 [==============================] - 1s 909us/step - loss: 0.0288 - MSE: 0.0288 - val_loss: 0.0291 - val_MSE: 0.0291\n",
      "682/682 [==============================] - 0s 580us/step\n",
      "76/76 [==============================] - 0s 547us/step\n"
     ]
    },
    {
     "data": {
      "text/html": [
       "<div>\n",
       "<style scoped>\n",
       "    .dataframe tbody tr th:only-of-type {\n",
       "        vertical-align: middle;\n",
       "    }\n",
       "\n",
       "    .dataframe tbody tr th {\n",
       "        vertical-align: top;\n",
       "    }\n",
       "\n",
       "    .dataframe thead th {\n",
       "        text-align: right;\n",
       "    }\n",
       "</style>\n",
       "<table border=\"1\" class=\"dataframe\">\n",
       "  <thead>\n",
       "    <tr style=\"text-align: right;\">\n",
       "      <th></th>\n",
       "      <th>0</th>\n",
       "    </tr>\n",
       "  </thead>\n",
       "  <tbody>\n",
       "    <tr>\n",
       "      <th>0</th>\n",
       "      <td>0.219080</td>\n",
       "    </tr>\n",
       "    <tr>\n",
       "      <th>1</th>\n",
       "      <td>0.520309</td>\n",
       "    </tr>\n",
       "    <tr>\n",
       "      <th>2</th>\n",
       "      <td>0.679825</td>\n",
       "    </tr>\n",
       "    <tr>\n",
       "      <th>3</th>\n",
       "      <td>0.977790</td>\n",
       "    </tr>\n",
       "    <tr>\n",
       "      <th>4</th>\n",
       "      <td>0.304865</td>\n",
       "    </tr>\n",
       "    <tr>\n",
       "      <th>...</th>\n",
       "      <td>...</td>\n",
       "    </tr>\n",
       "    <tr>\n",
       "      <th>75735</th>\n",
       "      <td>0.705612</td>\n",
       "    </tr>\n",
       "    <tr>\n",
       "      <th>75736</th>\n",
       "      <td>0.952504</td>\n",
       "    </tr>\n",
       "    <tr>\n",
       "      <th>75737</th>\n",
       "      <td>0.948717</td>\n",
       "    </tr>\n",
       "    <tr>\n",
       "      <th>75738</th>\n",
       "      <td>0.977892</td>\n",
       "    </tr>\n",
       "    <tr>\n",
       "      <th>75739</th>\n",
       "      <td>0.975726</td>\n",
       "    </tr>\n",
       "  </tbody>\n",
       "</table>\n",
       "<p>75740 rows × 1 columns</p>\n",
       "</div>"
      ],
      "text/plain": [
       "              0\n",
       "0      0.219080\n",
       "1      0.520309\n",
       "2      0.679825\n",
       "3      0.977790\n",
       "4      0.304865\n",
       "...         ...\n",
       "75735  0.705612\n",
       "75736  0.952504\n",
       "75737  0.948717\n",
       "75738  0.977892\n",
       "75739  0.975726\n",
       "\n",
       "[75740 rows x 1 columns]"
      ]
     },
     "execution_count": 40,
     "metadata": {},
     "output_type": "execute_result"
    }
   ],
   "source": [
    "def buildReluNN():\n",
    "    model = Sequential([\n",
    "        Dense(32, activation = 'relu', input_dim = X.shape[1]),\n",
    "        Dense(16, activation = 'relu'),\n",
    "        Dense(8, activation = 'relu'),\n",
    "        Dense(4, activation = 'relu'),\n",
    "        Dense(1, activation = 'sigmoid'),\n",
    "    ])\n",
    "    optimizer = SGD(learning_rate=0.1)\n",
    "    model.compile(optimizer=optimizer, loss='mse', metrics=['MSE'])\n",
    "    return(model)\n",
    "\n",
    "estimator = KerasRegressor(model=buildReluNN, epochs=100, batch_size=1000, verbose=1)\n",
    "history = estimator.fit(X_train, y_train, validation_data=(X_test.astype('float'), y_test))\n",
    "y_train_pred = estimator.predict(X_train)\n",
    "y_test_pred = estimator.predict(X_test)\n",
    "pd.DataFrame(y_test_pred)"
   ]
  },
  {
   "cell_type": "markdown",
   "metadata": {},
   "source": [
    "## Model Eval"
   ]
  },
  {
   "cell_type": "code",
   "execution_count": 9,
   "metadata": {},
   "outputs": [
    {
     "name": "stdout",
     "output_type": "stream",
     "text": [
      "0.029163377991230626\n"
     ]
    }
   ],
   "source": [
    "MSE = sum((y_test_pred - y_test)**2)/y_test.size\n",
    "print(MSE)"
   ]
  },
  {
   "cell_type": "code",
   "execution_count": 10,
   "metadata": {},
   "outputs": [
    {
     "name": "stdout",
     "output_type": "stream",
     "text": [
      "0.3375312127232222\n"
     ]
    }
   ],
   "source": [
    "# Fraction of Variance Unexplained\n",
    "FVU = MSE/np.var(y_test)\n",
    "print(FVU)"
   ]
  },
  {
   "cell_type": "code",
   "execution_count": 38,
   "metadata": {},
   "outputs": [
    {
     "data": {
      "text/plain": [
       "0.5958146289939266"
      ]
     },
     "execution_count": 38,
     "metadata": {},
     "output_type": "execute_result"
    }
   ],
   "source": [
    "y_test_pred_scaled = np.round((y_test_pred*4))\n",
    "y_test_scaled = y_test*4\n",
    "accuracy = (y_test_pred_scaled == y_test_scaled).sum()/len(y_test)\n",
    "accuracy"
   ]
  },
  {
   "cell_type": "code",
   "execution_count": 41,
   "metadata": {},
   "outputs": [
    {
     "name": "stdout",
     "output_type": "stream",
     "text": [
      "0.028879590993752053\n"
     ]
    }
   ],
   "source": [
    "#Training MSE and FVU\n",
    "MSE = sum((y_train_pred - y_train)**2)/y_train.size\n",
    "print(MSE)"
   ]
  },
  {
   "cell_type": "code",
   "execution_count": 42,
   "metadata": {},
   "outputs": [
    {
     "name": "stdout",
     "output_type": "stream",
     "text": [
      "0.3327577871770848\n"
     ]
    }
   ],
   "source": [
    "FVU = MSE/np.var(y_train)\n",
    "print(FVU)"
   ]
  },
  {
   "cell_type": "markdown",
   "metadata": {},
   "source": [
    "## Model Tuning"
   ]
  },
  {
   "cell_type": "code",
   "execution_count": null,
   "metadata": {},
   "outputs": [],
   "source": [
    "import keras_tuner"
   ]
  },
  {
   "cell_type": "code",
   "execution_count": null,
   "metadata": {},
   "outputs": [],
   "source": [
    "def buildHPmodel(hp):\n",
    "  model= Sequential([\n",
    "      Dense(32, activation = 'relu', input_dim = X.shape[1]),\n",
    "      Dense(\n",
    "              units=hp.Int(\"units\", min_value=8, max_value=24, step=4),\n",
    "              activation= 'relu',\n",
    "      ),\n",
    "      Dense(\n",
    "              units=hp.Int(\"units\", min_value=4, max_value=16, step=4),\n",
    "              activation= 'relu',\n",
    "      ),\n",
    "      Dense(\n",
    "              units=hp.Int(\"units\", min_value=1, max_value=8, step=4),\n",
    "              activation= 'relu',\n",
    "      ),\n",
    "      Dense(1, activation = 'sigmoid')\n",
    "  ])\n",
    "\n",
    "  optimizer = SGD(learning_rate=0.3)\n",
    "  model.compile(optimizer=optimizer, loss='mse', metrics=['MSE'])\n",
    "  return model"
   ]
  },
  {
   "cell_type": "code",
   "execution_count": null,
   "metadata": {},
   "outputs": [
    {
     "name": "stdout",
     "output_type": "stream",
     "text": [
      "Trial 9 Complete [00h 01m 21s]\n",
      "val_loss: 0.02869807370007038\n",
      "\n",
      "Best val_loss So Far: 0.02869807370007038\n",
      "Total elapsed time: 00h 12m 06s\n"
     ]
    }
   ],
   "source": [
    "hp = keras_tuner.HyperParameters()\n",
    "\n",
    "tuner = keras_tuner.GridSearch(\n",
    "    hypermodel=buildHPmodel,\n",
    "    objective=\"val_loss\",\n",
    "    max_trials=10,\n",
    "    seed=0,\n",
    "    executions_per_trial=1,\n",
    "    hyperparameters=hp,\n",
    "    tune_new_entries=True,\n",
    "    allow_new_entries=True,\n",
    "    max_consecutive_failed_trials=3,\n",
    "    overwrite=True\n",
    ")\n",
    "\n",
    "X_train = np.asarray(X_train).astype(np.float32)\n",
    "y_train = np.asarray(y_train).astype(np.float32)\n",
    "X_test = np.asarray(X_test).astype(np.float32)\n",
    "y_test = np.asarray(y_test).astype(np.float32)\n",
    "tuner.search(X_train, y_train, epochs=5, validation_data=(X_test, y_test), verbose = 1)"
   ]
  },
  {
   "cell_type": "code",
   "execution_count": null,
   "metadata": {},
   "outputs": [
    {
     "name": "stdout",
     "output_type": "stream",
     "text": [
      "Results summary\n",
      "Results in .\\untitled_project\n",
      "Showing 10 best trials\n",
      "Objective(name=\"val_loss\", direction=\"min\")\n",
      "\n",
      "Trial 08 summary\n",
      "Hyperparameters:\n",
      "units: 24\n",
      "Score: 0.02869807370007038\n",
      "\n",
      "Trial 03 summary\n",
      "Hyperparameters:\n",
      "units: 14\n",
      "Score: 0.028774499893188477\n",
      "\n",
      "Trial 07 summary\n",
      "Hyperparameters:\n",
      "units: 22\n",
      "Score: 0.028802407905459404\n",
      "\n",
      "Trial 00 summary\n",
      "Hyperparameters:\n",
      "units: 8\n",
      "Score: 0.02884363941848278\n",
      "\n",
      "Trial 01 summary\n",
      "Hyperparameters:\n",
      "units: 10\n",
      "Score: 0.02884863130748272\n",
      "\n",
      "Trial 04 summary\n",
      "Hyperparameters:\n",
      "units: 16\n",
      "Score: 0.02886430360376835\n",
      "\n",
      "Trial 05 summary\n",
      "Hyperparameters:\n",
      "units: 18\n",
      "Score: 0.02886887826025486\n",
      "\n",
      "Trial 02 summary\n",
      "Hyperparameters:\n",
      "units: 12\n",
      "Score: 0.028917666524648666\n",
      "\n",
      "Trial 06 summary\n",
      "Hyperparameters:\n",
      "units: 20\n",
      "Score: 0.028966402634978294\n"
     ]
    }
   ],
   "source": [
    "tuner.results_summary()"
   ]
  },
  {
   "cell_type": "markdown",
   "metadata": {},
   "source": [
    "## Hyperparameter Tuning - Random Search"
   ]
  },
  {
   "cell_type": "code",
   "execution_count": null,
   "metadata": {},
   "outputs": [],
   "source": [
    "def HPmodel(hp):\n",
    "    model = Sequential([\n",
    "        Dense(hp.Int(\"units\", min_value=32, max_value=64, step=2), activation = hp.Choice(\"activation\", [\"relu\", \"sigmoid\", \"softmax\", \"tanh\"]), input_dim = X.shape[1]),\n",
    "        Dense(hp.Int(\"units\", min_value=32, max_value=256, step=8), activation = hp.Choice(\"activation\", [\"relu\", \"sigmoid\", \"softmax\", \"tanh\"])),\n",
    "        Dense(hp.Int(\"units\", min_value=32, max_value=128, step=4), activation = hp.Choice(\"activation\", [\"relu\", \"sigmoid\", \"softmax\", \"tanh\"])),\n",
    "        Dense(hp.Int(\"units\", min_value=32, max_value=64, step=4), activation = hp.Choice(\"activation\", [\"relu\", \"sigmoid\", \"softmax\", \"tanh\"])),\n",
    "        Dense(1, activation = 'sigmoid'),\n",
    "    ])\n",
    "\n",
    "    learning_rate = hp.Float('lr', min_value=1e-4, max_value=1e-2, sampling='log')\n",
    "    optimizer = SGD(learning_rate=learning_rate)\n",
    "    model.compile(optimizer=optimizer, loss='mse', metrics=['MSE'])\n",
    "    return(model)"
   ]
  },
  {
   "cell_type": "code",
   "execution_count": null,
   "metadata": {},
   "outputs": [],
   "source": [
    "tuner = keras_tuner.RandomSearch(\n",
    "    HPmodel,\n",
    "    overwrite = True,\n",
    "    objective='val_loss',\n",
    "    max_trials = 20,\n",
    "    max_consecutive_failed_trials=3\n",
    ")\n",
    "tuner.search(np.array(X_train).astype('float32'), y_train, epochs=5, validation_data=(np.array(X_test).astype('float32'), y_test))"
   ]
  },
  {
   "cell_type": "markdown",
   "metadata": {},
   "source": [
    "### Model Eval"
   ]
  },
  {
   "cell_type": "code",
   "execution_count": null,
   "metadata": {},
   "outputs": [],
   "source": [
    "model = tuner.get_best_models()[0]\n",
    "print(model.summary())\n",
    "y_pred = model.predict(np.array(X_test).astype('float32'))"
   ]
  },
  {
   "cell_type": "code",
   "execution_count": null,
   "metadata": {},
   "outputs": [],
   "source": [
    "y_test_pred = y_pred.reshape(75740,)\n",
    "MSE = sum((y_test_pred - y_test)**2)/y_test.size\n",
    "print(MSE)"
   ]
  },
  {
   "cell_type": "code",
   "execution_count": null,
   "metadata": {},
   "outputs": [],
   "source": [
    "FVU = MSE/np.var(y_test)\n",
    "print(FVU)"
   ]
  },
  {
   "cell_type": "markdown",
   "metadata": {},
   "source": [
    "## Graphs\n"
   ]
  },
  {
   "cell_type": "code",
   "execution_count": 46,
   "metadata": {},
   "outputs": [
    {
     "data": {
      "image/png": "[encoded data removed]",
      "text/plain": [
       "<Figure size 640x480 with 1 Axes>"
      ]
     },
     "metadata": {},
     "output_type": "display_data"
    }
   ],
   "source": [
    "plt.plot(history.history_['loss'], label='Train Loss')\n",
    "plt.plot(history.history_['val_loss'], label='Validation Loss')\n",
    "plt.title(f'Our Model Loss')\n",
    "plt.xlabel('Epoch')\n",
    "plt.ylabel('Loss')\n",
    "plt.legend()\n",
    "plt.show()"
   ]
  },
  {
   "cell_type": "code",
   "execution_count": null,
   "metadata": {},
   "outputs": [],
   "source": []
  }
 ],
 "metadata": {
  "kernelspec": {
   "display_name": "Python 3 (ipykernel)",
   "language": "python",
   "name": "python3"
  },
  "language_info": {
   "codemirror_mode": {
    "name": "ipython",
    "version": 3
   },
   "file_extension": ".py",
   "mimetype": "text/x-python",
   "name": "python",
   "nbconvert_exporter": "python",
   "pygments_lexer": "ipython3",
   "version": "3.11.8"
  }
 },
 "nbformat": 4,
 "nbformat_minor": 4
}
