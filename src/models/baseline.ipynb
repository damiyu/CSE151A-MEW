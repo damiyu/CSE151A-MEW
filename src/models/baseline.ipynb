{
 "cells": [
  {
   "cell_type": "code",
   "execution_count": 1,
   "metadata": {},
   "outputs": [],
   "source": [
    "# Imports here\n",
    "import numpy as np\n",
    "import pandas as pd\n",
    "import json\n",
    "from sklearn.preprocessing import MinMaxScaler\n",
    "from sklearn.model_selection import train_test_split\n",
    "from sklearn.metrics import mean_absolute_error, r2_score\n",
    "from scikeras.wrappers import KerasClassifier, KerasRegressor\n",
    "from keras.models import Sequential\n",
    "from keras.layers import Dense\n",
    "from keras.optimizers import SGD\n",
    "from sklearn.metrics import confusion_matrix\n",
    "import matplotlib.pyplot as plt\n",
    "import seaborn as sns"
   ]
  },
  {
   "cell_type": "code",
   "execution_count": 33,
   "metadata": {},
   "outputs": [],
   "source": [
    "# Dataset here\n",
    "file = open(\"../dataset/processed_reviews.json\", 'r', encoding='utf8')\n",
    "dataset_dict = json.load(file)\n",
    "df_raw = pd.DataFrame(dataset_dict)"
   ]
  },
  {
   "cell_type": "code",
   "execution_count": 36,
   "metadata": {},
   "outputs": [
    {
     "data": {
      "text/html": [
       "<div>\n",
       "<style scoped>\n",
       "    .dataframe tbody tr th:only-of-type {\n",
       "        vertical-align: middle;\n",
       "    }\n",
       "\n",
       "    .dataframe tbody tr th {\n",
       "        vertical-align: top;\n",
       "    }\n",
       "\n",
       "    .dataframe thead th {\n",
       "        text-align: right;\n",
       "    }\n",
       "</style>\n",
       "<table border=\"1\" class=\"dataframe\">\n",
       "  <thead>\n",
       "    <tr style=\"text-align: right;\">\n",
       "      <th></th>\n",
       "      <th>overall_rating</th>\n",
       "      <th>work_life_balance</th>\n",
       "      <th>culture_values</th>\n",
       "      <th>career_opp</th>\n",
       "      <th>comp_benefits</th>\n",
       "      <th>senior_mgmt</th>\n",
       "      <th>year</th>\n",
       "      <th>recommend_o</th>\n",
       "      <th>recommend_v</th>\n",
       "      <th>recommend_x</th>\n",
       "      <th>...</th>\n",
       "      <th>month_11</th>\n",
       "      <th>month_12</th>\n",
       "      <th>month_2</th>\n",
       "      <th>month_3</th>\n",
       "      <th>month_4</th>\n",
       "      <th>month_5</th>\n",
       "      <th>month_6</th>\n",
       "      <th>month_7</th>\n",
       "      <th>month_8</th>\n",
       "      <th>month_9</th>\n",
       "    </tr>\n",
       "  </thead>\n",
       "  <tbody>\n",
       "    <tr>\n",
       "      <th>0</th>\n",
       "      <td>0.25</td>\n",
       "      <td>0.50</td>\n",
       "      <td>0.00</td>\n",
       "      <td>0.25</td>\n",
       "      <td>0.0</td>\n",
       "      <td>0.75</td>\n",
       "      <td>0.538462</td>\n",
       "      <td>False</td>\n",
       "      <td>False</td>\n",
       "      <td>True</td>\n",
       "      <td>...</td>\n",
       "      <td>False</td>\n",
       "      <td>True</td>\n",
       "      <td>False</td>\n",
       "      <td>False</td>\n",
       "      <td>False</td>\n",
       "      <td>False</td>\n",
       "      <td>False</td>\n",
       "      <td>False</td>\n",
       "      <td>False</td>\n",
       "      <td>False</td>\n",
       "    </tr>\n",
       "    <tr>\n",
       "      <th>1</th>\n",
       "      <td>0.00</td>\n",
       "      <td>0.00</td>\n",
       "      <td>0.00</td>\n",
       "      <td>0.00</td>\n",
       "      <td>0.0</td>\n",
       "      <td>0.00</td>\n",
       "      <td>0.615385</td>\n",
       "      <td>False</td>\n",
       "      <td>False</td>\n",
       "      <td>True</td>\n",
       "      <td>...</td>\n",
       "      <td>False</td>\n",
       "      <td>False</td>\n",
       "      <td>False</td>\n",
       "      <td>False</td>\n",
       "      <td>False</td>\n",
       "      <td>False</td>\n",
       "      <td>False</td>\n",
       "      <td>False</td>\n",
       "      <td>False</td>\n",
       "      <td>False</td>\n",
       "    </tr>\n",
       "    <tr>\n",
       "      <th>2</th>\n",
       "      <td>0.00</td>\n",
       "      <td>0.25</td>\n",
       "      <td>0.00</td>\n",
       "      <td>0.25</td>\n",
       "      <td>0.0</td>\n",
       "      <td>0.00</td>\n",
       "      <td>0.615385</td>\n",
       "      <td>False</td>\n",
       "      <td>False</td>\n",
       "      <td>True</td>\n",
       "      <td>...</td>\n",
       "      <td>False</td>\n",
       "      <td>False</td>\n",
       "      <td>False</td>\n",
       "      <td>False</td>\n",
       "      <td>True</td>\n",
       "      <td>False</td>\n",
       "      <td>False</td>\n",
       "      <td>False</td>\n",
       "      <td>False</td>\n",
       "      <td>False</td>\n",
       "    </tr>\n",
       "    <tr>\n",
       "      <th>3</th>\n",
       "      <td>0.50</td>\n",
       "      <td>0.75</td>\n",
       "      <td>0.25</td>\n",
       "      <td>0.25</td>\n",
       "      <td>0.5</td>\n",
       "      <td>0.25</td>\n",
       "      <td>0.615385</td>\n",
       "      <td>True</td>\n",
       "      <td>False</td>\n",
       "      <td>False</td>\n",
       "      <td>...</td>\n",
       "      <td>False</td>\n",
       "      <td>False</td>\n",
       "      <td>False</td>\n",
       "      <td>False</td>\n",
       "      <td>False</td>\n",
       "      <td>True</td>\n",
       "      <td>False</td>\n",
       "      <td>False</td>\n",
       "      <td>False</td>\n",
       "      <td>False</td>\n",
       "    </tr>\n",
       "    <tr>\n",
       "      <th>4</th>\n",
       "      <td>0.00</td>\n",
       "      <td>0.00</td>\n",
       "      <td>0.00</td>\n",
       "      <td>0.00</td>\n",
       "      <td>0.0</td>\n",
       "      <td>0.00</td>\n",
       "      <td>0.615385</td>\n",
       "      <td>False</td>\n",
       "      <td>False</td>\n",
       "      <td>True</td>\n",
       "      <td>...</td>\n",
       "      <td>False</td>\n",
       "      <td>False</td>\n",
       "      <td>False</td>\n",
       "      <td>False</td>\n",
       "      <td>False</td>\n",
       "      <td>False</td>\n",
       "      <td>False</td>\n",
       "      <td>False</td>\n",
       "      <td>False</td>\n",
       "      <td>True</td>\n",
       "    </tr>\n",
       "  </tbody>\n",
       "</table>\n",
       "<p>5 rows × 30 columns</p>\n",
       "</div>"
      ],
      "text/plain": [
       "   overall_rating  work_life_balance  culture_values  career_opp  \\\n",
       "0            0.25               0.50            0.00        0.25   \n",
       "1            0.00               0.00            0.00        0.00   \n",
       "2            0.00               0.25            0.00        0.25   \n",
       "3            0.50               0.75            0.25        0.25   \n",
       "4            0.00               0.00            0.00        0.00   \n",
       "\n",
       "   comp_benefits  senior_mgmt      year  recommend_o  recommend_v  \\\n",
       "0            0.0         0.75  0.538462        False        False   \n",
       "1            0.0         0.00  0.615385        False        False   \n",
       "2            0.0         0.00  0.615385        False        False   \n",
       "3            0.5         0.25  0.615385         True        False   \n",
       "4            0.0         0.00  0.615385        False        False   \n",
       "\n",
       "   recommend_x  ...  month_11  month_12  month_2  month_3  month_4  month_5  \\\n",
       "0         True  ...     False      True    False    False    False    False   \n",
       "1         True  ...     False     False    False    False    False    False   \n",
       "2         True  ...     False     False    False    False     True    False   \n",
       "3        False  ...     False     False    False    False    False     True   \n",
       "4         True  ...     False     False    False    False    False    False   \n",
       "\n",
       "   month_6  month_7  month_8  month_9  \n",
       "0    False    False    False    False  \n",
       "1    False    False    False    False  \n",
       "2    False    False    False    False  \n",
       "3    False    False    False    False  \n",
       "4    False    False    False     True  \n",
       "\n",
       "[5 rows x 30 columns]"
      ]
     },
     "execution_count": 36,
     "metadata": {},
     "output_type": "execute_result"
    }
   ],
   "source": [
    "# Unused features\n",
    "df = df_raw.copy(deep=True) #Do this so that I dont have to rerun the previous cell every time I make a change\n",
    "df.drop(columns=['firm','job_title', 'current', 'headline', 'pros', 'cons', 'duration'], inplace=True)\n",
    "\n",
    "# Split up Date\n",
    "df['date'] = pd.to_datetime(df['date_review'])\n",
    "df['month'] = df['date'].dt.month.astype(str)\n",
    "df['year'] = df['date'].dt.year\n",
    "\n",
    "# Min-max normalization\n",
    "scaler = MinMaxScaler()\n",
    "numeric_cols = df.select_dtypes(include=['int', 'float']).columns\n",
    "df[numeric_cols] = scaler.fit_transform(df[numeric_cols])\n",
    "\n",
    "#One hot encode\n",
    "one_hot_encoded = pd.get_dummies(df[['recommend', 'ceo_approv', 'outlook', 'month']])\n",
    "df = pd.concat([df, one_hot_encoded], axis=1)\n",
    "df.drop(columns=['date', 'date_review', 'recommend', 'ceo_approv', 'outlook', 'month'], inplace=True)\n",
    "\n",
    "df.head()"
   ]
  },
  {
   "cell_type": "code",
   "execution_count": 37,
   "metadata": {},
   "outputs": [],
   "source": [
    "#Spliting the data\n",
    "X = df.drop(columns=['overall_rating'])\n",
    "y = df['overall_rating']\n",
    "\n",
    "X_train, X_test, y_train, y_test = train_test_split(X, y, test_size=0.1, random_state=0)"
   ]
  },
  {
   "cell_type": "code",
   "execution_count": 39,
   "metadata": {},
   "outputs": [
    {
     "data": {
      "text/html": [
       "<div>\n",
       "<style scoped>\n",
       "    .dataframe tbody tr th:only-of-type {\n",
       "        vertical-align: middle;\n",
       "    }\n",
       "\n",
       "    .dataframe tbody tr th {\n",
       "        vertical-align: top;\n",
       "    }\n",
       "\n",
       "    .dataframe thead th {\n",
       "        text-align: right;\n",
       "    }\n",
       "</style>\n",
       "<table border=\"1\" class=\"dataframe\">\n",
       "  <thead>\n",
       "    <tr style=\"text-align: right;\">\n",
       "      <th></th>\n",
       "      <th>0</th>\n",
       "    </tr>\n",
       "  </thead>\n",
       "  <tbody>\n",
       "    <tr>\n",
       "      <th>0</th>\n",
       "      <td>0.225663</td>\n",
       "    </tr>\n",
       "    <tr>\n",
       "      <th>1</th>\n",
       "      <td>0.515614</td>\n",
       "    </tr>\n",
       "    <tr>\n",
       "      <th>2</th>\n",
       "      <td>0.690587</td>\n",
       "    </tr>\n",
       "    <tr>\n",
       "      <th>3</th>\n",
       "      <td>0.941693</td>\n",
       "    </tr>\n",
       "    <tr>\n",
       "      <th>4</th>\n",
       "      <td>0.251958</td>\n",
       "    </tr>\n",
       "    <tr>\n",
       "      <th>...</th>\n",
       "      <td>...</td>\n",
       "    </tr>\n",
       "    <tr>\n",
       "      <th>75735</th>\n",
       "      <td>0.648130</td>\n",
       "    </tr>\n",
       "    <tr>\n",
       "      <th>75736</th>\n",
       "      <td>0.910203</td>\n",
       "    </tr>\n",
       "    <tr>\n",
       "      <th>75737</th>\n",
       "      <td>0.916073</td>\n",
       "    </tr>\n",
       "    <tr>\n",
       "      <th>75738</th>\n",
       "      <td>0.927866</td>\n",
       "    </tr>\n",
       "    <tr>\n",
       "      <th>75739</th>\n",
       "      <td>0.939299</td>\n",
       "    </tr>\n",
       "  </tbody>\n",
       "</table>\n",
       "<p>75740 rows × 1 columns</p>\n",
       "</div>"
      ],
      "text/plain": [
       "              0\n",
       "0      0.225663\n",
       "1      0.515614\n",
       "2      0.690587\n",
       "3      0.941693\n",
       "4      0.251958\n",
       "...         ...\n",
       "75735  0.648130\n",
       "75736  0.910203\n",
       "75737  0.916073\n",
       "75738  0.927866\n",
       "75739  0.939299\n",
       "\n",
       "[75740 rows x 1 columns]"
      ]
     },
     "execution_count": 39,
     "metadata": {},
     "output_type": "execute_result"
    }
   ],
   "source": [
    "def buildSigmoidPerceptron():\n",
    "    model = Sequential([\n",
    "        Dense(1, activation = 'sigmoid', input_dim = X.shape[1]),\n",
    "    ])\n",
    "    optimizer = SGD(learning_rate=0.3)\n",
    "    model.compile(optimizer=optimizer, loss='mse', metrics=['MSE'])\n",
    "    return(model)\n",
    "\n",
    "estimator = KerasRegressor(model=buildSigmoidPerceptron, epochs=10, batch_size=1000, verbose=0)\n",
    "estimator.fit(X_train, y_train)\n",
    "y_train_pred = estimator.predict(X_train)\n",
    "y_test_pred = estimator.predict(X_test)\n",
    "pd.DataFrame(y_test_pred)"
   ]
  },
  {
   "cell_type": "markdown",
   "metadata": {},
   "source": [
    "# MSE # "
   ]
  },
  {
   "cell_type": "code",
   "execution_count": 40,
   "metadata": {},
   "outputs": [
    {
     "name": "stdout",
     "output_type": "stream",
     "text": [
      "0.03095515429793171\n"
     ]
    }
   ],
   "source": [
    "MSE = sum((y_test_pred - y_test)**2)/y_test.size\n",
    "print(MSE)"
   ]
  },
  {
   "cell_type": "code",
   "execution_count": 41,
   "metadata": {},
   "outputs": [
    {
     "name": "stdout",
     "output_type": "stream",
     "text": [
      "0.35826888000957124\n"
     ]
    }
   ],
   "source": [
    "# Fraction of Variance Unexplained\n",
    "FVU = MSE/np.var(y_test)\n",
    "print(FVU)"
   ]
  },
  {
   "cell_type": "code",
   "execution_count": 42,
   "metadata": {},
   "outputs": [
    {
     "name": "stdout",
     "output_type": "stream",
     "text": [
      "Train Error: 0.03075448043731223\n",
      "Test Error: 0.03095515429793171\n",
      "Train FVU: 0.3543607268643587\n",
      "Test FVU: 0.35826888000957124\n"
     ]
    }
   ],
   "source": [
    "# Training vs Test Error\n",
    "train_error = sum((y_train_pred - y_train)**2)/y_train.size\n",
    "test_error = sum((y_test_pred - y_test)**2)/y_test.size\n",
    "\n",
    "print('Train Error:', train_error)\n",
    "print('Test Error:', test_error)\n",
    "\n",
    "train_fvu = train_error/np.var(y_train)\n",
    "test_fvu = test_error/np.var(y_test)\n",
    "\n",
    "print('Train FVU:', train_fvu)\n",
    "print('Test FVU:', test_fvu)"
   ]
  },
  {
   "cell_type": "markdown",
   "metadata": {},
   "source": [
    "# Classification Metrics #\n",
    "# Accuracy, Precision, Recall #"
   ]
  },
  {
   "cell_type": "code",
   "execution_count": null,
   "metadata": {},
   "outputs": [],
   "source": [
    "from sklearn.metrics import accuracy_score, precision_score, recall_score\n",
    "\n",
    "def threshold(predictions):\n",
    "    thresholds = [0, 0.25, 0.5, 0.75, 1]\n",
    "    values = [1, 2, 3, 4, 5]\n",
    "    \n",
    "    result = np.zeros_like(predictions)\n",
    "    for i in range(len(thresholds) - 1):\n",
    "        result[(predictions >= thresholds[i]) & (predictions < thresholds[i+1])] = values[i]\n",
    "    \n",
    "    return result\n",
    "\n",
    "y_test_pred_thresholded = threshold(y_test_pred)\n",
    "y_test_thresholded = threshold(y_test)\n",
    "\n",
    "accuracy = accuracy_score(y_test_thresholded, y_test_pred_thresholded)\n",
    "\n",
    "precision = precision_score(y_test_thresholded, y_test_pred_thresholded, average='weighted')\n",
    "\n",
    "recall = recall_score(y_test_thresholded, y_test_pred_thresholded, average='weighted')\n",
    "\n",
    "print(\"Accuracy:\", accuracy)\n",
    "print(\"Precision:\", precision)\n",
    "print(\"Recall:\", recall)"
   ]
  },
  {
   "cell_type": "markdown",
   "metadata": {},
   "source": [
    "<ul>\n",
    "<li>Accuracy: 0.40739371534195934</li>\n",
    "<li>Precision: 0.29401425884185534</li>\n",
    "<li>Recall: 0.40739371534195934</li>\n",
    "</ul>"
   ]
  },
  {
   "cell_type": "markdown",
   "metadata": {},
   "source": [
    "# Where does our model sit on the Fitting graph? # "
   ]
  },
  {
   "cell_type": "markdown",
   "metadata": {},
   "source": [
    "Given our test and train errors are very close to each other (Train MSE: 0.0307 vs. Test MSE: 0.0309 and Train FVU: 0.3543 vs. Test FVU: 0.3582), we know that our model is not overfitting. However, since our test and train errors are relatively high and the accuracy of our model is only 0.4073, we know that there is much room for improvement and indicates that our model is underfitting. "
   ]
  },
  {
   "cell_type": "markdown",
   "metadata": {},
   "source": [
    "# Confusion Matrix # "
   ]
  },
  {
   "cell_type": "code",
   "execution_count": null,
   "metadata": {},
   "outputs": [],
   "source": [
    "cm = confusion_matrix(y_test_thresholded, y_test_pred_thresholded)\n",
    "print(\"Confusion Matrix:\")\n",
    "print(cm)\n",
    "\n",
    "plt.figure(figsize=(8, 6))\n",
    "sns.heatmap(cm, annot=True, fmt='d', cmap='Blues', cbar=False, square=True,\n",
    "            xticklabels=[1, 2, 3, 4, 5], yticklabels=[1, 2, 3, 4, 5])\n",
    "plt.xlabel('Predicted labels')\n",
    "plt.ylabel('True labels')\n",
    "plt.title('Confusion Matrix')\n",
    "plt.show()"
   ]
  },
  {
   "cell_type": "markdown",
   "metadata": {},
   "source": [
    "|        | Class 1 | Class 2 | Class 3 | Class 4 | Class 5 |\n",
    "|--------|---------|---------|---------|---------|---------|\n",
    "| Class 1|    0    |   48    |  140    |  4831   |  16400  |\n",
    "| Class 2|    0    |  3937   |  836    |   493   |    39   |\n",
    "| Class 3|    0    |  2410   |  2975   |  1187   |    48   |\n",
    "| Class 4|    0    |   732   |  4627   | 10309   |  1742   |\n",
    "| Class 5|    0    |   57    |  683    | 10611   | 13635   |\n"
   ]
  },
  {
   "cell_type": "markdown",
   "metadata": {},
   "source": [
    "# Next two models #"
   ]
  },
  {
   "cell_type": "markdown",
   "metadata": {},
   "source": []
  }
 ],
 "metadata": {
  "kernelspec": {
   "display_name": "Python 3 (ipykernel)",
   "language": "python",
   "name": "python3"
  },
  "language_info": {
   "codemirror_mode": {
    "name": "ipython",
    "version": 3
   },
   "file_extension": ".py",
   "mimetype": "text/x-python",
   "name": "python",
   "nbconvert_exporter": "python",
   "pygments_lexer": "ipython3",
   "version": "3.12.2"
  }
 },
 "nbformat": 4,
 "nbformat_minor": 4
}
