{
 "cells": [
  {
   "cell_type": "code",
   "execution_count": 1,
   "metadata": {},
   "outputs": [],
   "source": [
    "# Imports here\n",
    "import numpy as np\n",
    "import json"
   ]
  },
  {
   "cell_type": "code",
   "execution_count": 4,
   "metadata": {},
   "outputs": [],
   "source": [
    "# Dataset here\n",
    "file = open(\"./dataset/processed_reviews.json\", 'r', encoding='utf8')\n",
    "dataset_dict = json.load(file)"
   ]
  },
  {
   "cell_type": "code",
   "execution_count": 5,
   "metadata": {},
   "outputs": [],
   "source": [
    "# 1hot \"x\" \"o\" and \"r\"\n",
    "xor_dict = {\"x\": [1, 0, 0, 0], \"o\": [0, 1, 0, 0], \"r\": [0, 0, 1, 0], \"v\": [0, 0, 0, 1]}\n",
    "\n",
    "for d in dataset_dict:\n",
    "    # leave years alone, 1-hot months\n",
    "    year, month = d.pop('date_review').split(\"-\")[:2]\n",
    "    d['year_review'] = int(year)\n",
    "    d['one_hot_months'] = [0] * 12\n",
    "    d['one_hot_months'][int(month) - 1] = 1\n",
    "    \n",
    "    d['recommend'] = xor_dict[d['recommend']]\n",
    "    d['ceo_approv'] = xor_dict[d['ceo_approv']]\n",
    "    d['outlook'] = xor_dict[d['outlook']]"
   ]
  },
  {
   "cell_type": "code",
   "execution_count": 6,
   "metadata": {},
   "outputs": [
    {
     "data": {
      "text/plain": [
       "{'firm': 'AFH-Wealth-Management',\n",
       " 'job_title': 'Office Administrator',\n",
       " 'current': 'Current Employee',\n",
       " 'overall_rating': 2,\n",
       " 'work_life_balance': 3,\n",
       " 'culture_values': 1,\n",
       " 'career_opp': 2,\n",
       " 'comp_benefits': 1,\n",
       " 'senior_mgmt': 4,\n",
       " 'recommend': [1, 0, 0, 0],\n",
       " 'ceo_approv': [0, 1, 0, 0],\n",
       " 'outlook': [0, 0, 1, 0],\n",
       " 'headline': 'Excellent staff, poor salary',\n",
       " 'pros': 'Friendly, helpful and hard-working colleagues',\n",
       " 'cons': \"Poor salary which doesn't improve much with progression, no incentive to work harder, high turnover of staff, poor systems\",\n",
       " 'duration': 'more than 1 year',\n",
       " 'year_review': 2015,\n",
       " 'one_hot_months': [0, 0, 0, 0, 0, 0, 0, 0, 0, 0, 0, 1]}"
      ]
     },
     "execution_count": 6,
     "metadata": {},
     "output_type": "execute_result"
    }
   ],
   "source": []
  },
  {
   "cell_type": "code",
   "execution_count": null,
   "metadata": {},
   "outputs": [],
   "source": []
  }
 ],
 "metadata": {
  "kernelspec": {
   "display_name": "Python 3 (ipykernel)",
   "language": "python",
   "name": "python3"
  },
  "language_info": {
   "codemirror_mode": {
    "name": "ipython",
    "version": 3
   },
   "file_extension": ".py",
   "mimetype": "text/x-python",
   "name": "python",
   "nbconvert_exporter": "python",
   "pygments_lexer": "ipython3",
   "version": "3.8.2"
  }
 },
 "nbformat": 4,
 "nbformat_minor": 4
}
